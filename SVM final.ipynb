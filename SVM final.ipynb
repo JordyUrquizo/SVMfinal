{
 "cells": [
  {
   "cell_type": "code",
   "execution_count": 2,
   "metadata": {},
   "outputs": [],
   "source": [
    "#Se importan las librerias necesarias\n",
    "from sklearn import metrics\n",
    "import numpy as np # linear algebra\n",
    "import pandas as pd # data processing\n",
    "import re, string, nltk\n",
    "from nltk.tokenize import TweetTokenizer\n",
    "from sklearn.feature_extraction.text import CountVectorizer\n",
    "from bs4 import BeautifulSoup"
   ]
  },
  {
   "cell_type": "code",
   "execution_count": 3,
   "metadata": {},
   "outputs": [
    {
     "data": {
      "text/html": [
       "<div>\n",
       "<style scoped>\n",
       "    .dataframe tbody tr th:only-of-type {\n",
       "        vertical-align: middle;\n",
       "    }\n",
       "\n",
       "    .dataframe tbody tr th {\n",
       "        vertical-align: top;\n",
       "    }\n",
       "\n",
       "    .dataframe thead th {\n",
       "        text-align: right;\n",
       "    }\n",
       "</style>\n",
       "<table border=\"1\" class=\"dataframe\">\n",
       "  <thead>\n",
       "    <tr style=\"text-align: right;\">\n",
       "      <th></th>\n",
       "      <th>tweetid</th>\n",
       "      <th>user</th>\n",
       "      <th>content</th>\n",
       "      <th>value</th>\n",
       "      <th>country</th>\n",
       "      <th>Polarity_Rating</th>\n",
       "    </tr>\n",
       "  </thead>\n",
       "  <tbody>\n",
       "    <tr>\n",
       "      <th>0</th>\n",
       "      <td>NaN</td>\n",
       "      <td>NaN</td>\n",
       "      <td>\"Mi comentario es Delilú porque así lo quieres...</td>\n",
       "      <td>NEU</td>\n",
       "      <td>Ecuador</td>\n",
       "      <td>Neutral</td>\n",
       "    </tr>\n",
       "    <tr>\n",
       "      <th>1</th>\n",
       "      <td>NaN</td>\n",
       "      <td>NaN</td>\n",
       "      <td>#Delilú #mi dulce delilú no podría comérmelo s...</td>\n",
       "      <td>P</td>\n",
       "      <td>Ecuador</td>\n",
       "      <td>Positive</td>\n",
       "    </tr>\n",
       "    <tr>\n",
       "      <th>2</th>\n",
       "      <td>NaN</td>\n",
       "      <td>NaN</td>\n",
       "      <td>#Delilù es la mejor crema de chocolate😋😋 ami f...</td>\n",
       "      <td>P</td>\n",
       "      <td>Ecuador</td>\n",
       "      <td>Positive</td>\n",
       "    </tr>\n",
       "    <tr>\n",
       "      <th>3</th>\n",
       "      <td>NaN</td>\n",
       "      <td>NaN</td>\n",
       "      <td>#DelilúEnNavidad Mi Árbolito Navideño✨🎄🎄 junto...</td>\n",
       "      <td>P</td>\n",
       "      <td>Ecuador</td>\n",
       "      <td>Positive</td>\n",
       "    </tr>\n",
       "    <tr>\n",
       "      <th>4</th>\n",
       "      <td>NaN</td>\n",
       "      <td>NaN</td>\n",
       "      <td>#DelilúEnNavidad MI ARBOLITO 🎄 NAVIDEÑO CON UN...</td>\n",
       "      <td>P</td>\n",
       "      <td>Ecuador</td>\n",
       "      <td>Positive</td>\n",
       "    </tr>\n",
       "  </tbody>\n",
       "</table>\n",
       "</div>"
      ],
      "text/plain": [
       "   tweetid  user                                            content value  \\\n",
       "0      NaN   NaN  \"Mi comentario es Delilú porque así lo quieres...   NEU   \n",
       "1      NaN   NaN  #Delilú #mi dulce delilú no podría comérmelo s...     P   \n",
       "2      NaN   NaN  #Delilù es la mejor crema de chocolate😋😋 ami f...     P   \n",
       "3      NaN   NaN  #DelilúEnNavidad Mi Árbolito Navideño✨🎄🎄 junto...     P   \n",
       "4      NaN   NaN  #DelilúEnNavidad MI ARBOLITO 🎄 NAVIDEÑO CON UN...     P   \n",
       "\n",
       "   country Polarity_Rating  \n",
       "0  Ecuador         Neutral  \n",
       "1  Ecuador        Positive  \n",
       "2  Ecuador        Positive  \n",
       "3  Ecuador        Positive  \n",
       "4  Ecuador        Positive  "
      ]
     },
     "execution_count": 3,
     "metadata": {},
     "output_type": "execute_result"
    }
   ],
   "source": [
    "#Se importa el set de datos de entrenamiento \n",
    "data = pd.read_excel(\"TrainEcuadorFinal.xlsx\")\n",
    "\n",
    "#print head\n",
    "data.head()"
   ]
  },
  {
   "cell_type": "code",
   "execution_count": 4,
   "metadata": {},
   "outputs": [
    {
     "name": "stderr",
     "output_type": "stream",
     "text": [
      "C:\\Users\\JORDY\\AnacondaV3\\lib\\site-packages\\bs4\\__init__.py:329: MarkupResemblesLocatorWarning: \".\" looks like a filename, not markup. You should probably open this file and pass the filehandle into Beautiful Soup.\n",
      "  warnings.warn(\n",
      "C:\\Users\\JORDY\\AnacondaV3\\lib\\site-packages\\bs4\\__init__.py:414: MarkupResemblesLocatorWarning: \"https://youtu.be/xMd07Vky4QQ\" looks like a URL. Beautiful Soup is not an HTTP client. You should probably use an HTTP client like requests to get the document behind the URL, and feed that document to Beautiful Soup.\n",
      "  warnings.warn(\n",
      "C:\\Users\\JORDY\\AnacondaV3\\lib\\site-packages\\bs4\\__init__.py:414: MarkupResemblesLocatorWarning: \"https://m.facebook.com/story.php?story_fbid=1683973844965031&id=100000572966470&ref=bookmarks\" looks like a URL. Beautiful Soup is not an HTTP client. You should probably use an HTTP client like requests to get the document behind the URL, and feed that document to Beautiful Soup.\n",
      "  warnings.warn(\n",
      "C:\\Users\\JORDY\\AnacondaV3\\lib\\site-packages\\bs4\\__init__.py:329: MarkupResemblesLocatorWarning: \"...\" looks like a filename, not markup. You should probably open this file and pass the filehandle into Beautiful Soup.\n",
      "  warnings.warn(\n"
     ]
    },
    {
     "data": {
      "text/html": [
       "<div>\n",
       "<style scoped>\n",
       "    .dataframe tbody tr th:only-of-type {\n",
       "        vertical-align: middle;\n",
       "    }\n",
       "\n",
       "    .dataframe tbody tr th {\n",
       "        vertical-align: top;\n",
       "    }\n",
       "\n",
       "    .dataframe thead th {\n",
       "        text-align: right;\n",
       "    }\n",
       "</style>\n",
       "<table border=\"1\" class=\"dataframe\">\n",
       "  <thead>\n",
       "    <tr style=\"text-align: right;\">\n",
       "      <th></th>\n",
       "      <th>content_clean</th>\n",
       "      <th>Polarity_Rating</th>\n",
       "    </tr>\n",
       "  </thead>\n",
       "  <tbody>\n",
       "    <tr>\n",
       "      <th>0</th>\n",
       "      <td>\"Mi comentario es Delilú porque así lo quieres...</td>\n",
       "      <td>Neutral</td>\n",
       "    </tr>\n",
       "    <tr>\n",
       "      <th>1</th>\n",
       "      <td>#Delilú #mi dulce delilú no podría comérmelo s...</td>\n",
       "      <td>Positive</td>\n",
       "    </tr>\n",
       "    <tr>\n",
       "      <th>2</th>\n",
       "      <td>#Delilù es la mejor crema de chocolate😋😋 ami f...</td>\n",
       "      <td>Positive</td>\n",
       "    </tr>\n",
       "    <tr>\n",
       "      <th>3</th>\n",
       "      <td>#DelilúEnNavidad Mi Árbolito Navideño✨🎄🎄 junto...</td>\n",
       "      <td>Positive</td>\n",
       "    </tr>\n",
       "    <tr>\n",
       "      <th>4</th>\n",
       "      <td>#DelilúEnNavidad MI ARBOLITO 🎄 NAVIDEÑO CON UN...</td>\n",
       "      <td>Positive</td>\n",
       "    </tr>\n",
       "  </tbody>\n",
       "</table>\n",
       "</div>"
      ],
      "text/plain": [
       "                                       content_clean Polarity_Rating\n",
       "0  \"Mi comentario es Delilú porque así lo quieres...         Neutral\n",
       "1  #Delilú #mi dulce delilú no podría comérmelo s...        Positive\n",
       "2  #Delilù es la mejor crema de chocolate😋😋 ami f...        Positive\n",
       "3  #DelilúEnNavidad Mi Árbolito Navideño✨🎄🎄 junto...        Positive\n",
       "4  #DelilúEnNavidad MI ARBOLITO 🎄 NAVIDEÑO CON UN...        Positive"
      ]
     },
     "execution_count": 4,
     "metadata": {},
     "output_type": "execute_result"
    }
   ],
   "source": [
    "#Se limpian los comentarios para posteriormente preprocesarlos\n",
    "data_clean = data.copy()\n",
    "data_clean['content_clean'] = data_clean['content'].apply(lambda x: BeautifulSoup(x, \"lxml\").text)\n",
    "data_clean = data_clean.loc[:, ['content_clean', 'Polarity_Rating']]\n",
    "data_clean.head()"
   ]
  },
  {
   "cell_type": "code",
   "execution_count": 5,
   "metadata": {},
   "outputs": [],
   "source": [
    "data_clean['content_clean'] = data_clean['content_clean'].apply(lambda x: re.split('https:\\/\\/.*', str(x))[0]) #elimina url"
   ]
  },
  {
   "cell_type": "code",
   "execution_count": 6,
   "metadata": {},
   "outputs": [],
   "source": [
    "data_clean['content_clean'] = data_clean['content_clean'].apply(lambda x: re.split('\\d+', str(x))[0]) #elimina palabras con numeros"
   ]
  },
  {
   "cell_type": "code",
   "execution_count": 7,
   "metadata": {
    "scrolled": true
   },
   "outputs": [
    {
     "data": {
      "text/html": [
       "<div>\n",
       "<style scoped>\n",
       "    .dataframe tbody tr th:only-of-type {\n",
       "        vertical-align: middle;\n",
       "    }\n",
       "\n",
       "    .dataframe tbody tr th {\n",
       "        vertical-align: top;\n",
       "    }\n",
       "\n",
       "    .dataframe thead th {\n",
       "        text-align: right;\n",
       "    }\n",
       "</style>\n",
       "<table border=\"1\" class=\"dataframe\">\n",
       "  <thead>\n",
       "    <tr style=\"text-align: right;\">\n",
       "      <th></th>\n",
       "      <th>content_clean</th>\n",
       "      <th>Polarity_Rating</th>\n",
       "    </tr>\n",
       "  </thead>\n",
       "  <tbody>\n",
       "    <tr>\n",
       "      <th>0</th>\n",
       "      <td>\"Mi comentario es Delilú porque así lo quieres...</td>\n",
       "      <td>Neutral</td>\n",
       "    </tr>\n",
       "    <tr>\n",
       "      <th>1</th>\n",
       "      <td>#Delilú #mi dulce delilú no podría comérmelo s...</td>\n",
       "      <td>Positive</td>\n",
       "    </tr>\n",
       "    <tr>\n",
       "      <th>2</th>\n",
       "      <td>#Delilù es la mejor crema de chocolate😋😋 ami f...</td>\n",
       "      <td>Positive</td>\n",
       "    </tr>\n",
       "    <tr>\n",
       "      <th>3</th>\n",
       "      <td>#DelilúEnNavidad Mi Árbolito Navideño✨🎄🎄 junto...</td>\n",
       "      <td>Positive</td>\n",
       "    </tr>\n",
       "    <tr>\n",
       "      <th>4</th>\n",
       "      <td>#DelilúEnNavidad MI ARBOLITO 🎄 NAVIDEÑO CON UN...</td>\n",
       "      <td>Positive</td>\n",
       "    </tr>\n",
       "    <tr>\n",
       "      <th>...</th>\n",
       "      <td>...</td>\n",
       "      <td>...</td>\n",
       "    </tr>\n",
       "    <tr>\n",
       "      <th>5396</th>\n",
       "      <td>#NuestraRecetaLaFavorita Nuestro sueño en fami...</td>\n",
       "      <td>Positive</td>\n",
       "    </tr>\n",
       "    <tr>\n",
       "      <th>5397</th>\n",
       "      <td>Uy que emoción desde hoy estaré muchísimo más ...</td>\n",
       "      <td>Positive</td>\n",
       "    </tr>\n",
       "    <tr>\n",
       "      <th>5398</th>\n",
       "      <td>¡Exquisita Rosa! Encuentra la receta aquí: bit...</td>\n",
       "      <td>Positive</td>\n",
       "    </tr>\n",
       "    <tr>\n",
       "      <th>5399</th>\n",
       "      <td>Muy bien Wendy, nos encanta saber a quien admi...</td>\n",
       "      <td>Positive</td>\n",
       "    </tr>\n",
       "    <tr>\n",
       "      <th>5400</th>\n",
       "      <td>Aceite ligh ,achiote #LaFavorita 😊</td>\n",
       "      <td>Positive</td>\n",
       "    </tr>\n",
       "  </tbody>\n",
       "</table>\n",
       "<p>5401 rows × 2 columns</p>\n",
       "</div>"
      ],
      "text/plain": [
       "                                          content_clean Polarity_Rating\n",
       "0     \"Mi comentario es Delilú porque así lo quieres...         Neutral\n",
       "1     #Delilú #mi dulce delilú no podría comérmelo s...        Positive\n",
       "2     #Delilù es la mejor crema de chocolate😋😋 ami f...        Positive\n",
       "3     #DelilúEnNavidad Mi Árbolito Navideño✨🎄🎄 junto...        Positive\n",
       "4     #DelilúEnNavidad MI ARBOLITO 🎄 NAVIDEÑO CON UN...        Positive\n",
       "...                                                 ...             ...\n",
       "5396  #NuestraRecetaLaFavorita Nuestro sueño en fami...        Positive\n",
       "5397  Uy que emoción desde hoy estaré muchísimo más ...        Positive\n",
       "5398  ¡Exquisita Rosa! Encuentra la receta aquí: bit...        Positive\n",
       "5399  Muy bien Wendy, nos encanta saber a quien admi...        Positive\n",
       "5400                 Aceite ligh ,achiote #LaFavorita 😊        Positive\n",
       "\n",
       "[5401 rows x 2 columns]"
      ]
     },
     "execution_count": 7,
     "metadata": {},
     "output_type": "execute_result"
    }
   ],
   "source": [
    "#Elimina palabras con letras repetidas\n",
    "def conti_rep_char(str1):\n",
    "    tchr = str1.group(0)\n",
    "    if len(tchr) > 1:\n",
    "      return tchr[0:1]\n",
    "      \n",
    "def check_unique_char(rep, sent_text):\n",
    "    \n",
    "    convert = re.sub(r'(\\w)\\1+', \n",
    "                     rep,\n",
    "                     sent_text)\n",
    "      \n",
    "    # retorna la palabra convertida\n",
    "    return convert\n",
    "  \n",
    "data_clean['content_clean'] = data_clean['content_clean'].apply(\n",
    "                                   lambda x : check_unique_char(conti_rep_char,\n",
    "                                                              x))\n",
    "# mostrar Dataframe\n",
    "data_clean"
   ]
  },
  {
   "cell_type": "code",
   "execution_count": 10,
   "metadata": {},
   "outputs": [
    {
     "name": "stdout",
     "output_type": "stream",
     "text": [
      "Requirement already satisfied: emoji in c:\\users\\jordy\\anacondav3\\lib\\site-packages (1.2.0)\n"
     ]
    }
   ],
   "source": [
    "# Para instalar paquete de emojis preestablecidos\n",
    "!pip install emoji"
   ]
  },
  {
   "cell_type": "code",
   "execution_count": 11,
   "metadata": {},
   "outputs": [],
   "source": [
    "# Se importa libreria emoji\n",
    "import emoji\n",
    "\n",
    "def get_mentions_processing(text):\n",
    "    return \" \".join(filter(lambda x:x[0]!='@', text.split())) #no menciones\n",
    "\n",
    "def get_hashtags_processing(text):\n",
    "    return \" \".join(filter(lambda x:x[0]!='#', text.split())) #no hashtags\n",
    "\n",
    "def get_emojis_processing(text):\n",
    "    return str(emoji.demojize(text,language='es')).replace(\":\",\" \") #emojis a texto\n",
    "\n",
    "def get_less3words_processing(text):\n",
    "    return ' '.join([word for word in text.split() if len(word)>2]) #palabras con menos de 3 caracteres\n",
    "\n",
    "def get_text_processing(text):\n",
    "    stpword = stopwords.words('spanish')\n",
    "    no_punctuation = [char for char in text if char not in string.punctuation] #elimina puntuacion\n",
    "    no_punctuation = ''.join(no_punctuation).lower() #convierte en minuscula\n",
    "    return ' '.join([word for word in no_punctuation.split() if word.lower() not in stpword]) #elimina stopwords"
   ]
  },
  {
   "cell_type": "code",
   "execution_count": 12,
   "metadata": {
    "scrolled": true
   },
   "outputs": [
    {
     "name": "stderr",
     "output_type": "stream",
     "text": [
      "[nltk_data] Downloading package stopwords to\n",
      "[nltk_data]     C:\\Users\\JORDY\\AppData\\Roaming\\nltk_data...\n",
      "[nltk_data]   Package stopwords is already up-to-date!\n"
     ]
    },
    {
     "data": {
      "text/html": [
       "<div>\n",
       "<style scoped>\n",
       "    .dataframe tbody tr th:only-of-type {\n",
       "        vertical-align: middle;\n",
       "    }\n",
       "\n",
       "    .dataframe tbody tr th {\n",
       "        vertical-align: top;\n",
       "    }\n",
       "\n",
       "    .dataframe thead th {\n",
       "        text-align: right;\n",
       "    }\n",
       "</style>\n",
       "<table border=\"1\" class=\"dataframe\">\n",
       "  <thead>\n",
       "    <tr style=\"text-align: right;\">\n",
       "      <th></th>\n",
       "      <th>content_clean</th>\n",
       "      <th>Polarity_Rating</th>\n",
       "      <th>Content_Review</th>\n",
       "      <th>Content_Review1</th>\n",
       "      <th>Content_Review2</th>\n",
       "      <th>Content_Review3</th>\n",
       "      <th>Content_Review4</th>\n",
       "    </tr>\n",
       "  </thead>\n",
       "  <tbody>\n",
       "    <tr>\n",
       "      <th>0</th>\n",
       "      <td>Nos encanta su empresa, esperamos poder servir...</td>\n",
       "      <td>Positive</td>\n",
       "      <td>Nos encanta su empresa, esperamos poder servir...</td>\n",
       "      <td>Nos encanta su empresa, esperamos poder servir...</td>\n",
       "      <td>Nos encanta su empresa, esperamos poder servir...</td>\n",
       "      <td>encanta empresa esperamos poder servirles pron...</td>\n",
       "      <td>encanta empresa esperamos poder servirles pron...</td>\n",
       "    </tr>\n",
       "    <tr>\n",
       "      <th>1</th>\n",
       "      <td>¡Mucha suerte para ti, Marthi! :D &lt;</td>\n",
       "      <td>Neutral</td>\n",
       "      <td>¡Mucha suerte para ti, Marthi! :D &lt;</td>\n",
       "      <td>¡Mucha suerte para ti, Marthi! :D &lt;</td>\n",
       "      <td>¡Mucha suerte para ti, Marthi!  D &lt;</td>\n",
       "      <td>¡mucha suerte marthi d</td>\n",
       "      <td>¡mucha suerte marthi</td>\n",
       "    </tr>\n",
       "    <tr>\n",
       "      <th>2</th>\n",
       "      <td>antes meados de pero caliente que una cañita d...</td>\n",
       "      <td>Negative</td>\n",
       "      <td>antes meados de pero caliente que una cañita d...</td>\n",
       "      <td>antes meados de pero caliente que una cañita d...</td>\n",
       "      <td>antes meados de pero caliente que una cañita d...</td>\n",
       "      <td>meados caliente cañita cruzcampo arsa</td>\n",
       "      <td>meados caliente cañita cruzcampo arsa</td>\n",
       "    </tr>\n",
       "    <tr>\n",
       "      <th>3</th>\n",
       "      <td>Felicitamos a todos nuestros estudiantes de la...</td>\n",
       "      <td>Neutral</td>\n",
       "      <td>Felicitamos a todos nuestros estudiantes de la...</td>\n",
       "      <td>Felicitamos a todos nuestros estudiantes de la...</td>\n",
       "      <td>Felicitamos a todos nuestros estudiantes de la...</td>\n",
       "      <td>felicitamos estudiantes responder pregunta sem...</td>\n",
       "      <td>felicitamos estudiantes responder pregunta sem...</td>\n",
       "    </tr>\n",
       "    <tr>\n",
       "      <th>4</th>\n",
       "      <td>Cruzcampo :) @ Bilbao Centro</td>\n",
       "      <td>Neutral</td>\n",
       "      <td>Cruzcampo :) Bilbao Centro</td>\n",
       "      <td>Cruzcampo :) Bilbao Centro</td>\n",
       "      <td>Cruzcampo  ) Bilbao Centro</td>\n",
       "      <td>cruzcampo bilbao centro</td>\n",
       "      <td>cruzcampo bilbao centro</td>\n",
       "    </tr>\n",
       "    <tr>\n",
       "      <th>...</th>\n",
       "      <td>...</td>\n",
       "      <td>...</td>\n",
       "      <td>...</td>\n",
       "      <td>...</td>\n",
       "      <td>...</td>\n",
       "      <td>...</td>\n",
       "      <td>...</td>\n",
       "    </tr>\n",
       "    <tr>\n",
       "      <th>5396</th>\n",
       "      <td>#DelilúMiAmor Yo estoy en una relación con DEL...</td>\n",
       "      <td>Positive</td>\n",
       "      <td>#DelilúMiAmor Yo estoy en una relación con DEL...</td>\n",
       "      <td>Yo estoy en una relación con DELILÚ!</td>\n",
       "      <td>Yo estoy en una relación con DELILÚ!</td>\n",
       "      <td>relación delilú</td>\n",
       "      <td>relación delilú</td>\n",
       "    </tr>\n",
       "    <tr>\n",
       "      <th>5397</th>\n",
       "      <td>Hola Feliz Navidad al grupo de la FAVORITA</td>\n",
       "      <td>Neutral</td>\n",
       "      <td>Hola Feliz Navidad al grupo de la FAVORITA</td>\n",
       "      <td>Hola Feliz Navidad al grupo de la FAVORITA</td>\n",
       "      <td>Hola Feliz Navidad al grupo de la FAVORITA</td>\n",
       "      <td>hola feliz navidad grupo favorita</td>\n",
       "      <td>hola feliz navidad grupo favorita</td>\n",
       "    </tr>\n",
       "    <tr>\n",
       "      <th>5398</th>\n",
       "      <td>#RecetaParaElExito #LaFavorita si participando...</td>\n",
       "      <td>Neutral</td>\n",
       "      <td>#RecetaParaElExito #LaFavorita si participando...</td>\n",
       "      <td>si participando por mi negocio</td>\n",
       "      <td>si participando por mi negocio</td>\n",
       "      <td>si participando negocio</td>\n",
       "      <td>participando negocio</td>\n",
       "    </tr>\n",
       "    <tr>\n",
       "      <th>5399</th>\n",
       "      <td>@Tomas</td>\n",
       "      <td>Neutral</td>\n",
       "      <td></td>\n",
       "      <td></td>\n",
       "      <td></td>\n",
       "      <td></td>\n",
       "      <td></td>\n",
       "    </tr>\n",
       "    <tr>\n",
       "      <th>5400</th>\n",
       "      <td>El que hace que el seco sea rico y tenga un bu...</td>\n",
       "      <td>Positive</td>\n",
       "      <td>El que hace que el seco sea rico y tenga un bu...</td>\n",
       "      <td>El que hace que el seco sea rico y tenga un bu...</td>\n",
       "      <td>El que hace que el seco sea rico y tenga un bu...</td>\n",
       "      <td>hace seco rico buen color mejor achiote favori...</td>\n",
       "      <td>hace seco rico buen color mejor achiote favori...</td>\n",
       "    </tr>\n",
       "  </tbody>\n",
       "</table>\n",
       "<p>5401 rows × 7 columns</p>\n",
       "</div>"
      ],
      "text/plain": [
       "                                          content_clean Polarity_Rating  \\\n",
       "0     Nos encanta su empresa, esperamos poder servir...        Positive   \n",
       "1                   ¡Mucha suerte para ti, Marthi! :D <         Neutral   \n",
       "2     antes meados de pero caliente que una cañita d...        Negative   \n",
       "3     Felicitamos a todos nuestros estudiantes de la...         Neutral   \n",
       "4                         Cruzcampo :) @ Bilbao Centro          Neutral   \n",
       "...                                                 ...             ...   \n",
       "5396  #DelilúMiAmor Yo estoy en una relación con DEL...        Positive   \n",
       "5397         Hola Feliz Navidad al grupo de la FAVORITA         Neutral   \n",
       "5398  #RecetaParaElExito #LaFavorita si participando...         Neutral   \n",
       "5399                                             @Tomas         Neutral   \n",
       "5400  El que hace que el seco sea rico y tenga un bu...        Positive   \n",
       "\n",
       "                                         Content_Review  \\\n",
       "0     Nos encanta su empresa, esperamos poder servir...   \n",
       "1                   ¡Mucha suerte para ti, Marthi! :D <   \n",
       "2     antes meados de pero caliente que una cañita d...   \n",
       "3     Felicitamos a todos nuestros estudiantes de la...   \n",
       "4                            Cruzcampo :) Bilbao Centro   \n",
       "...                                                 ...   \n",
       "5396  #DelilúMiAmor Yo estoy en una relación con DEL...   \n",
       "5397         Hola Feliz Navidad al grupo de la FAVORITA   \n",
       "5398  #RecetaParaElExito #LaFavorita si participando...   \n",
       "5399                                                      \n",
       "5400  El que hace que el seco sea rico y tenga un bu...   \n",
       "\n",
       "                                        Content_Review1  \\\n",
       "0     Nos encanta su empresa, esperamos poder servir...   \n",
       "1                   ¡Mucha suerte para ti, Marthi! :D <   \n",
       "2     antes meados de pero caliente que una cañita d...   \n",
       "3     Felicitamos a todos nuestros estudiantes de la...   \n",
       "4                            Cruzcampo :) Bilbao Centro   \n",
       "...                                                 ...   \n",
       "5396               Yo estoy en una relación con DELILÚ!   \n",
       "5397         Hola Feliz Navidad al grupo de la FAVORITA   \n",
       "5398                     si participando por mi negocio   \n",
       "5399                                                      \n",
       "5400  El que hace que el seco sea rico y tenga un bu...   \n",
       "\n",
       "                                        Content_Review2  \\\n",
       "0     Nos encanta su empresa, esperamos poder servir...   \n",
       "1                   ¡Mucha suerte para ti, Marthi!  D <   \n",
       "2     antes meados de pero caliente que una cañita d...   \n",
       "3     Felicitamos a todos nuestros estudiantes de la...   \n",
       "4                            Cruzcampo  ) Bilbao Centro   \n",
       "...                                                 ...   \n",
       "5396               Yo estoy en una relación con DELILÚ!   \n",
       "5397         Hola Feliz Navidad al grupo de la FAVORITA   \n",
       "5398                     si participando por mi negocio   \n",
       "5399                                                      \n",
       "5400  El que hace que el seco sea rico y tenga un bu...   \n",
       "\n",
       "                                        Content_Review3  \\\n",
       "0     encanta empresa esperamos poder servirles pron...   \n",
       "1                                ¡mucha suerte marthi d   \n",
       "2                 meados caliente cañita cruzcampo arsa   \n",
       "3     felicitamos estudiantes responder pregunta sem...   \n",
       "4                               cruzcampo bilbao centro   \n",
       "...                                                 ...   \n",
       "5396                                    relación delilú   \n",
       "5397                  hola feliz navidad grupo favorita   \n",
       "5398                            si participando negocio   \n",
       "5399                                                      \n",
       "5400  hace seco rico buen color mejor achiote favori...   \n",
       "\n",
       "                                        Content_Review4  \n",
       "0     encanta empresa esperamos poder servirles pron...  \n",
       "1                                  ¡mucha suerte marthi  \n",
       "2                 meados caliente cañita cruzcampo arsa  \n",
       "3     felicitamos estudiantes responder pregunta sem...  \n",
       "4                               cruzcampo bilbao centro  \n",
       "...                                                 ...  \n",
       "5396                                    relación delilú  \n",
       "5397                  hola feliz navidad grupo favorita  \n",
       "5398                               participando negocio  \n",
       "5399                                                     \n",
       "5400  hace seco rico buen color mejor achiote favori...  \n",
       "\n",
       "[5401 rows x 7 columns]"
      ]
     },
     "execution_count": 12,
     "metadata": {},
     "output_type": "execute_result"
    }
   ],
   "source": [
    "# Se importan y se descargan stopwords preestablecidos\n",
    "from nltk.corpus import stopwords\n",
    "nltk.download('stopwords')\n",
    "data_clean = data_clean.sample(frac=1).reset_index(drop=True)\n",
    "df1 = pd.DataFrame()\n",
    "df1 = data_clean\n",
    "df1['content_clean'] = data_clean['content_clean']\n",
    "df1['Content_Review'] = data_clean['content_clean'].apply(get_mentions_processing)\n",
    "df1['Content_Review1'] = df1['Content_Review'].apply(get_hashtags_processing)\n",
    "df1['Content_Review2'] = df1['Content_Review1'].apply(get_emojis_processing)\n",
    "df1['Content_Review3'] = df1['Content_Review2'].apply(get_text_processing)\n",
    "df1['Content_Review4'] = df1['Content_Review3'].apply(get_less3words_processing) #En un dataframe, se remueven los stopwords y obtienen los comentarios limpios con los que se va a trabajar\n",
    "df1"
   ]
  },
  {
   "cell_type": "code",
   "execution_count": 13,
   "metadata": {},
   "outputs": [
    {
     "data": {
      "text/html": [
       "<div>\n",
       "<style scoped>\n",
       "    .dataframe tbody tr th:only-of-type {\n",
       "        vertical-align: middle;\n",
       "    }\n",
       "\n",
       "    .dataframe tbody tr th {\n",
       "        vertical-align: top;\n",
       "    }\n",
       "\n",
       "    .dataframe thead th {\n",
       "        text-align: right;\n",
       "    }\n",
       "</style>\n",
       "<table border=\"1\" class=\"dataframe\">\n",
       "  <thead>\n",
       "    <tr style=\"text-align: right;\">\n",
       "      <th></th>\n",
       "      <th>Content_Review4</th>\n",
       "      <th>Polarity_Rating</th>\n",
       "    </tr>\n",
       "  </thead>\n",
       "  <tbody>\n",
       "    <tr>\n",
       "      <th>0</th>\n",
       "      <td>encanta empresa esperamos poder servirles pron...</td>\n",
       "      <td>Positive</td>\n",
       "    </tr>\n",
       "    <tr>\n",
       "      <th>1</th>\n",
       "      <td>¡mucha suerte marthi</td>\n",
       "      <td>Neutral</td>\n",
       "    </tr>\n",
       "    <tr>\n",
       "      <th>2</th>\n",
       "      <td>meados caliente cañita cruzcampo arsa</td>\n",
       "      <td>Negative</td>\n",
       "    </tr>\n",
       "    <tr>\n",
       "      <th>3</th>\n",
       "      <td>felicitamos estudiantes responder pregunta sem...</td>\n",
       "      <td>Neutral</td>\n",
       "    </tr>\n",
       "    <tr>\n",
       "      <th>4</th>\n",
       "      <td>cruzcampo bilbao centro</td>\n",
       "      <td>Neutral</td>\n",
       "    </tr>\n",
       "  </tbody>\n",
       "</table>\n",
       "</div>"
      ],
      "text/plain": [
       "                                     Content_Review4 Polarity_Rating\n",
       "0  encanta empresa esperamos poder servirles pron...        Positive\n",
       "1                               ¡mucha suerte marthi         Neutral\n",
       "2              meados caliente cañita cruzcampo arsa        Negative\n",
       "3  felicitamos estudiantes responder pregunta sem...         Neutral\n",
       "4                            cruzcampo bilbao centro         Neutral"
      ]
     },
     "execution_count": 13,
     "metadata": {},
     "output_type": "execute_result"
    }
   ],
   "source": [
    "# Se crea un dataframe con unicamente el comentario y su polaridad en cuanto al sentimiento\n",
    "df2 = pd.DataFrame()\n",
    "df2 = df1\n",
    "df2 = df1[['Content_Review4', 'Polarity_Rating']]\n",
    "df2.head()"
   ]
  },
  {
   "cell_type": "code",
   "execution_count": 14,
   "metadata": {
    "scrolled": true
   },
   "outputs": [
    {
     "name": "stdout",
     "output_type": "stream",
     "text": [
      "315\n",
      "(5086, 2)\n"
     ]
    },
    {
     "name": "stderr",
     "output_type": "stream",
     "text": [
      "<ipython-input-14-178ae3d6fd43>:2: SettingWithCopyWarning: \n",
      "A value is trying to be set on a copy of a slice from a DataFrame.\n",
      "Try using .loc[row_indexer,col_indexer] = value instead\n",
      "\n",
      "See the caveats in the documentation: https://pandas.pydata.org/pandas-docs/stable/user_guide/indexing.html#returning-a-view-versus-a-copy\n",
      "  df2['Content_Review4'] = df2['Content_Review4'].replace('', np.nan) # Reemplazo los registros vacíos con NaN\n"
     ]
    },
    {
     "data": {
      "text/html": [
       "<div>\n",
       "<style scoped>\n",
       "    .dataframe tbody tr th:only-of-type {\n",
       "        vertical-align: middle;\n",
       "    }\n",
       "\n",
       "    .dataframe tbody tr th {\n",
       "        vertical-align: top;\n",
       "    }\n",
       "\n",
       "    .dataframe thead th {\n",
       "        text-align: right;\n",
       "    }\n",
       "</style>\n",
       "<table border=\"1\" class=\"dataframe\">\n",
       "  <thead>\n",
       "    <tr style=\"text-align: right;\">\n",
       "      <th></th>\n",
       "      <th>Content_Review4</th>\n",
       "      <th>Polarity_Rating</th>\n",
       "    </tr>\n",
       "  </thead>\n",
       "  <tbody>\n",
       "    <tr>\n",
       "      <th>0</th>\n",
       "      <td>encanta empresa esperamos poder servirles pron...</td>\n",
       "      <td>Positive</td>\n",
       "    </tr>\n",
       "    <tr>\n",
       "      <th>1</th>\n",
       "      <td>¡mucha suerte marthi</td>\n",
       "      <td>Neutral</td>\n",
       "    </tr>\n",
       "    <tr>\n",
       "      <th>2</th>\n",
       "      <td>meados caliente cañita cruzcampo arsa</td>\n",
       "      <td>Negative</td>\n",
       "    </tr>\n",
       "    <tr>\n",
       "      <th>3</th>\n",
       "      <td>felicitamos estudiantes responder pregunta sem...</td>\n",
       "      <td>Neutral</td>\n",
       "    </tr>\n",
       "    <tr>\n",
       "      <th>4</th>\n",
       "      <td>cruzcampo bilbao centro</td>\n",
       "      <td>Neutral</td>\n",
       "    </tr>\n",
       "    <tr>\n",
       "      <th>...</th>\n",
       "      <td>...</td>\n",
       "      <td>...</td>\n",
       "    </tr>\n",
       "    <tr>\n",
       "      <th>5395</th>\n",
       "      <td>gracias confianza carasonriendoconojosdecorazón</td>\n",
       "      <td>Positive</td>\n",
       "    </tr>\n",
       "    <tr>\n",
       "      <th>5396</th>\n",
       "      <td>relación delilú</td>\n",
       "      <td>Positive</td>\n",
       "    </tr>\n",
       "    <tr>\n",
       "      <th>5397</th>\n",
       "      <td>hola feliz navidad grupo favorita</td>\n",
       "      <td>Neutral</td>\n",
       "    </tr>\n",
       "    <tr>\n",
       "      <th>5398</th>\n",
       "      <td>participando negocio</td>\n",
       "      <td>Neutral</td>\n",
       "    </tr>\n",
       "    <tr>\n",
       "      <th>5400</th>\n",
       "      <td>hace seco rico buen color mejor achiote favori...</td>\n",
       "      <td>Positive</td>\n",
       "    </tr>\n",
       "  </tbody>\n",
       "</table>\n",
       "<p>5086 rows × 2 columns</p>\n",
       "</div>"
      ],
      "text/plain": [
       "                                        Content_Review4 Polarity_Rating\n",
       "0     encanta empresa esperamos poder servirles pron...        Positive\n",
       "1                                  ¡mucha suerte marthi         Neutral\n",
       "2                 meados caliente cañita cruzcampo arsa        Negative\n",
       "3     felicitamos estudiantes responder pregunta sem...         Neutral\n",
       "4                               cruzcampo bilbao centro         Neutral\n",
       "...                                                 ...             ...\n",
       "5395    gracias confianza carasonriendoconojosdecorazón        Positive\n",
       "5396                                    relación delilú        Positive\n",
       "5397                  hola feliz navidad grupo favorita         Neutral\n",
       "5398                               participando negocio         Neutral\n",
       "5400  hace seco rico buen color mejor achiote favori...        Positive\n",
       "\n",
       "[5086 rows x 2 columns]"
      ]
     },
     "execution_count": 14,
     "metadata": {},
     "output_type": "execute_result"
    }
   ],
   "source": [
    "# Elimino registros con Answers NaN\n",
    "df2['Content_Review4'] = df2['Content_Review4'].replace('', np.nan) # Reemplazo los registros vacíos con NaN\n",
    "print(df2['Content_Review4'].isna().sum()) \n",
    "df2 = df2.dropna(axis=0, subset=['Content_Review4'])\n",
    "print(df2.shape)\n",
    "df2"
   ]
  },
  {
   "cell_type": "code",
   "execution_count": 15,
   "metadata": {},
   "outputs": [
    {
     "name": "stdout",
     "output_type": "stream",
     "text": [
      "Neutral     2944\n",
      "Positive    1848\n",
      "Negative     294\n",
      "Name: Polarity_Rating, dtype: int64\n"
     ]
    }
   ],
   "source": [
    "# Se cuenta el numero de comentarios por cada polaridad\n",
    "print(df2['Polarity_Rating'].value_counts())"
   ]
  },
  {
   "cell_type": "code",
   "execution_count": 16,
   "metadata": {},
   "outputs": [],
   "source": [
    "# Se realiza la division del set de datos en entrenamiento y prueba\n",
    "from sklearn.model_selection import train_test_split\n",
    "\n",
    "train, test = train_test_split(df2, test_size=0.3, random_state=42) \n",
    "X_train = train['Content_Review4'].values\n",
    "X_test = test['Content_Review4'].values\n",
    "y_train = train['Polarity_Rating']\n",
    "y_test = test['Polarity_Rating']"
   ]
  },
  {
   "cell_type": "code",
   "execution_count": 17,
   "metadata": {},
   "outputs": [
    {
     "name": "stdout",
     "output_type": "stream",
     "text": [
      "(3560,)\n",
      "(1526,)\n",
      "(3560,)\n",
      "(1526,)\n"
     ]
    }
   ],
   "source": [
    "# Se imprime la cantidad de palabras de cada segmento (entrenamiento y prueba)\n",
    "print(X_train.shape)\n",
    "print(X_test.shape)\n",
    "print(y_train.shape)\n",
    "print(y_test.shape)"
   ]
  },
  {
   "cell_type": "code",
   "execution_count": 18,
   "metadata": {},
   "outputs": [],
   "source": [
    "# Se transforma el texto en vectores de datos numericos \n",
    "vect1 = CountVectorizer()\n",
    "X_train = vect1.fit_transform(X_train)\n",
    "X_test = vect1.transform(X_test)"
   ]
  },
  {
   "cell_type": "code",
   "execution_count": 19,
   "metadata": {},
   "outputs": [
    {
     "name": "stdout",
     "output_type": "stream",
     "text": [
      "(3560, 6837)\n",
      "(1526, 6837)\n",
      "(3560,)\n",
      "(1526,)\n"
     ]
    }
   ],
   "source": [
    "# Se vuelve a imprimir la cantidad de palabras de cada segmento \n",
    "print(X_train.shape)\n",
    "print(X_test.shape)\n",
    "print(y_train.shape)\n",
    "print(y_test.shape)"
   ]
  },
  {
   "cell_type": "code",
   "execution_count": 20,
   "metadata": {
    "scrolled": false
   },
   "outputs": [
    {
     "name": "stdout",
     "output_type": "stream",
     "text": [
      "['abajo', 'abastecer', 'abc', 'abcd', 'abces', 'abel', 'abi', 'abigail', 'ablande', 'abra', 'abrazar', 'abrazo', 'abrazos', 'abren', 'abri', 'abrir', 'abrá', 'absolutamente', 'absorbido', 'abuela', 'abuelita', 'abundante', 'aburida', 'abusados', 'aca', 'acaba', 'acabado', 'acaban', 'acabaron', 'acaben', 'acabo', 'acabé', 'acabó', 'academia', 'acampando', 'acapela', 'aceder', 'aceita', 'aceite', 'aceitegirasol', 'aceites', 'aceitito', 'aceité', 'acentos', 'acentuar', 'acepta', 'aceptan', 'acepto', 'aceptó', 'acerque', 'acesible', 'aceso', 'acesorios', 'achaquen', 'achiote', 'acho', 'achote', 'achotito', 'achoto', 'acidente', 'acides', 'acidez', 'acionistas', 'aciote', 'aclaración', 'acompaña', 'acompañada', 'acompañado', 'acompañados', 'acompañan', 'acompañandonos', 'acompañante', 'acompañar', 'acompañarlo', 'acompañaron', 'acompañat', 'acompañe', 'acompaño', 'acompañó', 'aconpanñadas', 'aconseja', 'acordandoce', 'acordar', 'acordaron', 'acorde', 'acosta', 'acostarme', 'actitud', 'actividad', 'actividades', 'actual', 'actualidad', 'acuden', 'acudir', 'acuerdan', 'acuerdo', 'acá', 'adam', 'adaptable', 'adaptación', 'adela', 'adelaida', 'adelante', 'adelanto', 'adelina', 'ademas', 'además', 'adentro', 'aderezo', 'aderezos', 'adhiera', 'adiciona', 'adición', 'adicta', 'adictivo', 'adidas', 'adios', 'adivinamos', 'adivinar', 'adivinas', 'administrativo', 'admirar', 'admiras', 'admiro', 'adobar', 'adolescentes', 'adornar', 'adoro', 'adquiere', 'adquirida', 'adquirir', 'adri', 'adriana', 'aducionamos', 'adultos', 'afectadas', 'afinesgracias', 'afortunada', 'afortunadas', 'afortunados', 'afrontar', 'afuera', 'agachadito', 'again', 'agara', 'agarar', 'agare', 'agaro', 'agencias', 'ago', 'agostina', 'agosto', 'agotar', 'agradable', 'agrade', 'agradecer', 'agradecido', 'agradecimiento', 'agradesco', 'agradeserle', 'agrandarlo', 'agrega', 'agregamos', 'agregarle', 'agregarlo', 'agrego', 'agregué', 'agri', 'agridulce', 'agua', 'aguacate', 'aguado', 'aguantado', 'aguantas', 'agucate', 'aguire', 'agustina', 'agüita', 'ahi', 'ahogada', 'ahogarme', 'ahora', 'ahorita', 'ahoro', 'ahí', 'airbnb', 'aires', 'ajaja', 'ajajajajajaj', 'ajajajajajaja', 'aji', 'ajilo', 'ajo', 'ají', 'aki', 'ala', 'alaba', 'alacance', 'alaia', 'alambrito', 'alaska', 'albaca', 'albahaca', 'alban', 'albondigas', 'albóndigas', 'alcalina', 'alcance', 'alcanza', 'alcanzar', 'alchi', 'alcohol', 'alcoholica', 'aldeila', 'ale', 'aledañas', 'alegra', 'alegrar', 'alegria', 'alegría', 'alejandro', 'aleman', 'alemania', 'alerta', 'alex', 'alexander', 'alexandra', 'alexis', 'alfa', 'alfajor', 'alfajores', 'alfredo', 'algodón', 'alguien', 'algun', 'alguna', 'alguno', 'algún', 'aliada', 'aliado', 'alianza', 'alicia', 'aliestare', 'alimentación', 'alimenticia', 'alimento', 'alimentos', 'alimetos', 'alison', 'alistas', 'alita', 'alitas', 'aliñado', 'alma', 'almacen', 'almendras', 'almendraspimientaetc', 'almuerzo', 'almuerzos', 'alquiló', 'alta', 'altas', 'alto', 'altovoltaje', 'altura', 'aluminio', 'alv', 'alvarado', 'alvarez', 'alvaro', 'alvear', 'always', 'alí', 'ama', 'amaba', 'amada', 'amadalu', 'amado', 'amamos', 'amanecersobremontañas', 'amanecí', 'amante', 'amar', 'amargo', 'amarila', 'amarilis', 'amarilito', 'amarilo', 'amarilos', 'amarlo', 'amarnos', 'amarte', 'amas', 'amat', 'amañado', 'ambateño', 'ambición', 'amen', 'amenaza', 'america', 'americanas', 'americano', 'ami', 'amiga', 'amigas', 'amigo', 'amigos', 'amigs', 'amistad', 'amo', 'amor', 'amores', 'amoroso', 'amortiguador', 'amorzitho', 'amos', 'ampliando', 'ampliar', 'amplían', 'amsgasi', 'amy', 'amén', 'ana', 'anabele', 'anaela', 'analítica', 'ancho', 'anchundia', 'anda', 'andaluces', 'andalucía', 'andando', 'andares', 'ando', 'andre', 'andrea', 'andreita', 'andres', 'andrés', 'andy', 'anecdota', 'anexado', 'anforasdiciendo', 'angel', 'angela', 'angelica', 'angelma', 'anghelina', 'angie', 'angiemostruo', 'anhelado', 'anheladoy', 'anhelo', 'ani', 'anilos', 'animadora', 'animalitos', 'animo', 'animáis', 'animás', 'anis', 'anita', 'ano', 'anoche', 'ansias', 'antares', 'antemano', 'anthony', 'anto', 'antojitos', 'antojos', 'antonio', 'anual', 'anunciando', 'anunciar', 'anuncio', 'anuncios', 'anvy', 'any', 'anzules', 'anécdota', 'anécdotas', 'apaleado', 'apanada', 'apanado', 'apanados', 'apanadura', 'aparecen', 'apariencia', 'aparte', 'apelidaras', 'apesar', 'apetece', 'aplasta', 'aplastamos', 'aple', 'aplicare', 'aplicarse', 'aplicándole', 'apliquemos', 'apliques', 'apolo', 'aporta', 'apoya', 'apoyan', 'apoyar', 'apoyarlos', 'apoyo', 'apoyos', 'apreciar', 'aprendas', 'aprender', 'aprenderás', 'aprendi', 'aprendido', 'aprendiendo', 'aprendizaje', 'aprendí', 'aprobado', 'aprovecha', 'aprovechar', 'apunta', 'apuro', 'apuñalarme', 'aque', 'aquel', 'aquela', 'aquelo', 'aquelos', 'aqui', 'aquieler', 'aquí', 'aracely', 'aranca', 'arancamos', 'arancar', 'aranco', 'aranque', 'arauz', 'arbol', 'arca', 'ardía', 'are', 'arelano', 'arelis', 'arepienta', 'argentina', 'argentinas', 'ariba', 'ariendo', 'arma', 'armamos', 'armarlas', 'armila', 'aroma', 'aropa', 'aros', 'aroz', 'arrozcocido', 'arrozconcurry', 'arsa', 'arte', 'arteaga', 'artesanal', 'artesano', 'articulaciones', 'artista', 'artículo', 'asa', 'asada', 'asadero', 'asado', 'asados', 'asael', 'asamo', 'asar', 'asco', 'ase', 'asegurado', 'aseite', 'asen', 'aser', 'aserlo', 'asesoramiento', 'asha', 'ashley', 'asi', 'asia', 'asistente', 'asociación', 'asociaciónʺ', 'asociarse', 'aspecto', 'aspen', 'asquerosa', 'asta', 'aste', 'astudilo', 'asumo', 'asunto', 'así', 'atención', 'atenta', 'atentos', 'ateradora', 'atletismo', 'atlético', 'atr', 'atrape', 'atrapesos', 'atravesamos', 'atreve', 'atrás', 'atrévete', 'atun', 'atún', 'auchan', 'aueño', 'aulas', 'aumenta', 'aumentar', 'aun', 'aunq', 'aunque', 'auquila', 'auris', 'auspicio', 'australia', 'autana', 'auto', 'autocatedrale', 'automaticamente', 'automotriz', 'automundo', 'autonomo', 'autorizados', 'autos', 'autoservicios', 'autovend', 'auténtica', 'avances', 'avanza', 'avelana', 'avelanas', 'avena', 'aventura', 'aver', 'avia', 'avisar', 'avisenme', 'ayacas', 'ayer', 'ayuda', 'ayudame', 'ayudamos', 'ayudan', 'ayudar', 'ayudara', 'ayudarme', 'ayudarnos', 'ayudarte', 'ayudará', 'ayude', 'ayudeme', 'ayuden', 'ayunas', 'ayúdame', 'ayúdanos', 'azael', 'azar', 'azucena', 'azul', 'azules', 'azúcar', 'azúcares', 'aã', 'añade', 'añadidura', 'añadimos', 'añadir', 'año', 'años', 'añosy', 'aún', 'babear', 'backus', 'baguete', 'bai', 'bajada', 'bajar', 'baje', 'bajo', 'bajonesr', 'bakanas', 'bakanes', 'balarezo', 'balboa', 'balda', 'balde', 'balenita', 'balóndefútbol', 'bananas', 'banano', 'banco', 'bandeja', 'banderaecuador', 'banderaméxico', 'banderazo', 'bar', 'baragan', 'barba', 'barbarismo', 'barbi', 'barcelona', 'barcia', 'bareiro', 'barera', 'baril', 'barila', 'baro', 'baros', 'basado', 'base', 'bases', 'basta', 'bastion', 'basura', 'batala', 'batido', 'batidos', 'batió', 'bazar', 'bazas', 'bañadas', 'bañado', 'bbd', 'bbq', 'beatriz', 'bebe', 'beben', 'beber', 'beberia', 'beberlas', 'beberme', 'bebería', 'bebesita', 'bebi', 'bebida', 'bebidacaliente', 'bebierais', 'bebo', 'bebé', 'beicon', 'bela', 'belas', 'belen', 'beleza', 'belezas', 'belo', 'belota', 'beltrán', 'belém', 'benavides', 'bendecido', 'bendecir', 'bendiaga', 'bendiciendo', 'bendicion', 'bendiciones', 'bendicionez', 'bendición', 'bendiga', 'benditas', 'benicidio', 'benicio', 'benilda', 'benitez', 'beriso', 'berlingo', 'bermeo', 'bernarda', 'berones', 'berta', 'berthita', 'besitos', 'beso', 'beteravas', 'bethel', 'beticoro', 'betina', 'betito', 'beto', 'betsa', 'betsy', 'bety', 'bicarbonato', 'bichear', 'bici', 'bicicleta', 'bien', 'biene', 'bienen', 'bienestar', 'bienvenido', 'bienvenidos', 'bienvenids', 'bife', 'bifet', 'big', 'bigmktonline', 'bilbao', 'bilkita', 'billeteconalas', 'billetededólar', 'bimbo', 'bira', 'biras', 'bistec', 'bisutería', 'bitly', 'bitlyencuestafavorita', 'bitlylaacademiafavorita', 'bitlymicocinafavorita', 'bitlypizafavorita', 'bitlyregistroacademia', 'bizaro', 'bizcochos', 'black', 'blanca', 'blancas', 'blanco', 'blandito', 'block', 'bloqueo', 'blue', 'boanerges', 'boca', 'bocadilos', 'bocaditos', 'bocado', 'boda', 'bodega', 'boi', 'boicot', 'bok', 'bola', 'boladearroz', 'boladeconfeti', 'bolas', 'bold', 'boletos', 'boliche', 'bolitas', 'bolivia', 'bolo', 'bolon', 'bolones', 'bolos', 'boloñés', 'bolsa', 'bolsilo', 'bolsilos', 'boludo', 'bomba', 'bombero', 'bombin', 'bombones', 'bon', 'bondi', 'bonito', 'bonitos', 'bordo', 'borita', 'botanas', 'bote', 'botecito', 'botela', 'botelitas', 'botelín', 'botoms', 'botóndemarcadeverificación', 'boutique', 'bowl', 'bozadaq', 'bra', 'brasa', 'brasas', 'brasil', 'brasilera', 'bravo', 'brazas', 'brazos', 'bri', 'bridamos', 'brinda', 'brindada', 'brindamos', 'brindan', 'brindar', 'brindarnos', 'brindará', 'brindo', 'briones', 'brithal', 'brithany', 'briyid', 'bro', 'brocoli', 'broma', 'bronceado', 'bronka', 'brownie', 'brownies', 'browuni', 'brucheta', 'bruscheta', 'bryan', 'bróloli', 'bt', 'bucaram', 'bucaran', 'bud', 'budesié', 'budweiser', 'buen', 'buena', 'buenas', 'buenisimas', 'bueno', 'buenopero', 'buenos', 'buenísimo', 'bufet', 'buje', 'bulgarin', 'bulying', 'bura', 'burbuja', 'burotaxis', 'burrito', 'busca', 'buscabdo', 'buscamos', 'buscan', 'buscando', 'buscar', 'buscas', 'busco', 'businestdc', 'bustamante', 'butifara', 'buzónabiertoconlabanderalevantada', 'buñol', 'bícepsflexionado', 'cabalero', 'cabaña', 'cabe', 'cabelo', 'cabeza', 'cabo', 'cabra', 'cabrea', 'cabrera', 'cabrona', 'cacao', 'cacaolat', 'cachafaz', 'cachoro', 'cacita', 'cada', 'caducadas', 'caen', 'caer', 'caesar', 'cafe', 'cafeteria', 'cafetería', 'café', 'cagar', 'cago', 'caida', 'caiga', 'caja', 'cajistas', 'cajitas', 'cajon', 'cajones', 'cakes', 'calabaza', 'calabazadehalloween', 'calan', 'calderon', 'caldo', 'caldos', 'cale', 'calendario', 'calendas', 'cales', 'calida', 'calidad', 'caliente', 'calientehe', 'calientito', 'calmen', 'calor', 'calzado', 'cama', 'camara', 'camarera', 'camarero', 'camaron', 'camarones', 'camarón', 'cambia', 'cambiadas', 'cambiamos', 'cambiar', 'cambiara', 'cambiarlo', 'cambiaron', 'cambiaste', 'cambies', 'cambio', 'cambió', 'caminaba', 'caminando', 'camino', 'camion', 'camioneta', 'camisas', 'camisetas', 'camita', 'campana', 'campaña', 'campechanas', 'campeonato', 'campeón', 'camping', 'campo', 'camry', 'can', 'canal', 'canarias', 'canario', 'canasta', 'canastas', 'cancer', 'candero', 'canela', 'cangrejo', 'cangrejos', 'canguilera', 'caniche', 'canje', 'canjeando', 'canjear', 'canjearlas', 'canola', 'canolalogo', 'canpo', 'cansar', 'cantado', 'cantarbailar', 'capa', 'capilares', 'capita', 'capital', 'capitulo', 'capitán', 'captar', 'capte', 'captura', 'capturado', 'capturas', 'capture', 'capucino', 'capítulo', 'car', 'cara', 'caraagotada', 'caraalrevés', 'carababeando', 'carabesandoconlosojoscerrados', 'carabesandoconojossonrientes', 'caracabreada', 'caracansada', 'caraconelceñofruncidoylabocaabierta', 'caraconmanosabrazando', 'caraconmanosobrelaboca', 'caraconmascarillamédica', 'caraconojoscerradosylenguafuera', 'caraconojosenblanco', 'caraconsudorfrío', 'caracteristicas', 'caracterizarse', 'característico', 'caradealivio', 'caradecepcionada', 'caradecerdo', 'caradedesaprobación', 'caradefiesta', 'caradenáuseas', 'caradeperro', 'caradeporfavor', 'caradesanimada', 'caradesesperada', 'caraenfadada', 'carafelizconojossonrientes', 'caragritandodemiedo', 'caraguiñandoelojo', 'carahaciendounamueca', 'carajo', 'caralanzandounbeso', 'carallorando', 'carallorandoderisa', 'carallorandofuerte', 'caramelo', 'caraneutral', 'carapensativa', 'carapreocupada', 'carapungo', 'cararadianteconojossonrientes', 'cararevolviéndosedelarisa', 'caras', 'carasaboreandocomida', 'carasacandolalengua', 'carasacandolalenguayguiñandounojo', 'carasco', 'carasinexpresión', 'carasonriendo', 'carasonriendoconaureola', 'carasonriendoconcorazones', 'carasonriendoconestrellas', 'carasonriendocongafasdesol', 'carasonriendoconlosojoscerrados', 'carasonriendoconojosdecorazón', 'carasonriendoconojosgrandes', 'carasonriendoconojossonrientes', 'carasonriendoconsudorfrío', 'carasonriendoconsuperioridad', 'carasonriendoligeramente', 'carasonriente', 'carasonrojada', 'caratristeperoaliviada', 'caravomitando', 'carbo', 'carbon', 'carbona', 'carbón', 'carefour', 'carera', 'careras', 'careta', 'caretilas', 'cargil', 'cargue', 'carilo', 'carina', 'carita', 'carito', 'cariño', 'cariñoso', 'carlos', 'carlota', 'carmen', 'carmita', 'carnaval', 'carne', 'carnes', 'caro', 'carola', 'carolina', 'caros', 'carpa', 'carpas', 'carta', 'cartagena', 'cartón', 'casa', 'casaconjardín', 'casada', 'casados', 'casael', 'casero', 'caseros', 'casi', 'casillaconmarcadeverificación', 'casita', 'casitas', 'caso', 'casta', 'castaña', 'castilo', 'castro', 'casé', 'cata', 'catador', 'catalogos', 'caucheros', 'causa', 'cautivará', 'cazorla', 'cazuela', 'caída', 'caña', 'cañas', 'cañita', 'cañóndeconfeti', 'cebola', 'ceci', 'cecibel', 'cecilia', 'cedeño', 'cegado', 'cegueno', 'ceite', 'cele', 'celebraciones', 'celebran', 'celebrando', 'celebrar', 'celebraré', 'celestial', 'celi', 'celia', 'celtareal', 'celu', 'celulares', 'cembrina', 'cementerio', 'cena', 'cenita', 'centenario', 'centro', 'centró', 'ceokiler', 'cepeda', 'cerado', 'cerados', 'cerando', 'cerato', 'cerca', 'cercado', 'cerdo', 'cereales', 'cerna', 'cero', 'certeza', 'cervantes', 'cerveca', 'cervecera', 'cervecero', 'cervecita', 'cerveza', 'cervezas', 'cerámica', 'cesar', 'cevalo', 'cevalos', 'ceviche', 'ceviches', 'cevichito', 'chacra', 'chamo', 'champions', 'champiñones', 'chance', 'chancho', 'chapo', 'charla', 'chatara', 'chavez', 'chavistas', 'chea', 'checa', 'chef', 'chefs', 'chefsito', 'chele', 'chelito', 'chelo', 'chesecakes', 'chevere', 'chevrolet', 'chica', 'chicaiza', 'chicharon', 'chicharones', 'chicharón', 'chico', 'chicos', 'chidas', 'chido', 'chikas', 'chila', 'chile', 'chilear', 'china', 'chingando', 'chiquilo', 'chiquitos', 'chiriboga', 'chiros', 'chispas', 'chivo', 'chivopolo', 'chocaron', 'choclo', 'choco', 'chocodeliciosas', 'chocolate', 'chocolates', 'chocolatito', 'chocolatosada', 'chocolatosamente', 'chocolatoso', 'chocotorta', 'chocó', 'choez', 'chopera', 'chorito', 'chorizo', 'chr', 'christian', 'chrysler', 'chuches', 'chuparse', 'churascoaroz', 'chuzo', 'chávez', 'chófer', 'ciclo', 'cielo', 'ciempre', 'cienpre', 'cienpuntos', 'ciertas', 'cierto', 'ciertos', 'cinthya', 'circo', 'circulen', 'ciruelas', 'ciscuntacias', 'citar', 'cito', 'citroen', 'citroneteros', 'citroën', 'cityutah', 'ciudad', 'ciudadanía', 'ciudades', 'ciudadsi', 'clara', 'claridad', 'clarita', 'claro', 'clase', 'clasicos', 'clavar', 'clavarme', 'clave', 'claves', 'cldo', 'clemencia', 'clientas', 'cliente', 'clientes', 'clima', 'cloclito', 'closets', 'cobertura', 'cobra', 'cobrar', 'coca', 'cochabamba', 'coche', 'coches', 'cocido', 'cocina', 'cocinado', 'cocinados', 'cocinamos', 'cocinando', 'cocinar', 'cocinarla', 'cocinarlas', 'cocinaro', 'cocinas', 'cocinero', 'cocino', 'cocion', 'coción', 'coco', 'cocolon', 'cocoló', 'cocolón', 'codigo', 'codigos', 'coelo', 'cogen', 'coger', 'cogieron', 'coincido', 'coja', 'cojer', 'cojo', 'cojones', 'cola', 'colaboración', 'colaboradores', 'colacao', 'colada', 'cole', 'colegas', 'colesterol', 'colgaba', 'colisión', 'colmo', 'coloca', 'colocamos', 'colocando', 'colocar', 'colocas', 'colombia', 'colombiano', 'colonizadores', 'color', 'colorada', 'colorado', 'colorcito', 'colores', 'colorido', 'coloso', 'com', 'coma', 'comadre', 'comamos', 'combina', 'combinable', 'combinación', 'combinar', 'combinarla', 'combinarlas', 'combinarlo', 'combino', 'combito', 'comedor', 'comeis', 'comemos', 'comen', 'comencemos', 'comensar', 'comentaremos', 'comentario', 'comentarios', 'comentarnos', 'comento', 'comenzará', 'comenzó', 'comer', 'comeraste', 'comercial', 'comerciales', 'comerlo', 'comermelo', 'comerse', 'comes', 'comestible', 'cometo', 'comi', 'comida', 'comidas', 'comido', 'comiendo', 'comiendola', 'comiendolo', 'comiensa', 'comienza', 'comienzan', 'comimos', 'comisaría', 'comisatiato', 'comono', 'compacto', 'compara', 'comparada', 'comparas', 'comparativa', 'comparta', 'compartan', 'comparte', 'comparti', 'compartido', 'compartiendo', 'compartieron', 'compartimos', 'compartir', 'compartire', 'compartiria', 'compartirla', 'compartirlas', 'compartirlo', 'compartiré', 'compartiría', 'comparto', 'compatir', 'compatriotas', 'compañeras', 'compañero', 'compañia', 'compañía', 'compensar', 'competencia', 'competir', 'compis', 'complace', 'complejos', 'complemento', 'completa', 'completamente', 'completar', 'completes', 'completisima', 'completo', 'completos', 'complicado', 'componentes', 'compra', 'compraba', 'comprado', 'comprame', 'compran', 'comprar', 'comprara', 'comprarlas', 'comprarme', 'compras', 'compre', 'compreme', 'compremos', 'compro', 'comprobadono', 'compré', 'compró', 'compártenos', 'comsumir', 'comun', 'comunica', 'comunicador', 'comunicando', 'comunicar', 'comunicarte', 'comunidad', 'comuniquen', 'comunícate', 'coméis', 'comí', 'comía', 'comían', 'comías', 'comó', 'con', 'conbina', 'concedan', 'concedió', 'concejir', 'concejo', 'concentración', 'concentrado', 'concentrados', 'concesionario', 'concetrados', 'concha', 'conciente', 'concreto', 'concursando', 'concursar', 'concurso', 'concursos', 'condensada', 'condiciones', 'condición', 'condimentos', 'condoy', 'conduce', 'conduciendo', 'conducimos', 'conduzca', 'conectada', 'conectarse', 'conectividad', 'conexión', 'conferencias', 'confi', 'confiable', 'confianza', 'confiar', 'configura', 'confio', 'confirm', 'confirmar', 'confirmen', 'conformar', 'confrontación', 'congelacion', 'congelado', 'congelador', 'congelar', 'congelarlo', 'congelarse', 'congreso', 'coni', 'conida', 'conla', 'conmemora', 'conmigo', 'cono', 'conoce', 'conocer', 'conocerlo', 'conocerás', 'conoces', 'conoci', 'conocido', 'conocimiento', 'conocí', 'conosco', 'conozco', 'conquista', 'conquistar', 'consecionario', 'conseguimos', 'conseguir', 'consejo', 'consejos', 'consentir', 'conservadurismo', 'conserve', 'consideran', 'considero', 'consienta', 'consiente', 'consiga', 'consigo', 'consigue', 'consiste', 'consistencia', 'consolidan', 'consta', 'constancia', 'constante', 'construcion', 'construir', 'construyen', 'consuelo', 'consulta', 'consultorio', 'consume', 'consumen', 'consumidoras', 'consumidores', 'consumiendo', 'consumimos', 'consumir', 'consumo', 'contacto', 'contactoautoclickrepuestoscom', 'contamos', 'contando', 'contar', 'contarnos', 'conte', 'contempla', 'contenido', 'contenta', 'contestando', 'contestar', 'contestes', 'contiene', 'contigo', 'continuará', 'contrario', 'contratar', 'contraten', 'control', 'contruirle', 'contándonos', 'conté', 'convence', 'converso', 'convertido', 'convertimos', 'convertían', 'conviene', 'convierte', 'convierten', 'convina', 'convinarla', 'convirtió', 'conza', 'copa', 'copadevino', 'copcakes', 'copete', 'copi', 'copia', 'corazon', 'corazonesgiratorios', 'corazón', 'corazónamarillo', 'corazónazul', 'corazónblanco', 'corazónbrillante', 'corazónconflecha', 'corazónconlazo', 'corazóncreciente', 'corazónlatiendo', 'corazónmorado', 'corazónnaranja', 'corazónrojo', 'corazónverde', 'corbiche', 'cordiales', 'cordinar', 'core', 'corea', 'coreano', 'corecta', 'corecto', 'coreo', 'coriendo', 'corola', 'corona', 'coronas', 'corporacion', 'corporación', 'cors', 'corta', 'cortaditas', 'cortado', 'cortar', 'cortarlo', 'cortarse', 'corte', 'cortedecarne', 'cortito', 'corto', 'coruña', 'corviche', 'corvina', 'cosa', 'cosas', 'cosina', 'cosinamo', 'cosinar', 'cosino', 'costa', 'costila', 'costo', 'costra', 'cosumo', 'cosí', 'coupe', 'cover', 'covers', 'coña', 'coño', 'cre', 'creación', 'creado', 'crean', 'creando', 'crear', 'crearon', 'creativa', 'creatividad', 'creciendo', 'crema', 'cremas', 'creme', 'cremosidad', 'cremosita', 'cremoso', 'creo', 'crepes', 'crer', 'creta', 'creíble', 'creó', 'cria', 'criada', 'criminal', 'criola', 'criolo', 'crisis', 'cristhian', 'cristian', 'cristina', 'cristy', 'criticada', 'crm', 'crocante', 'crocantitolafavoritaoriginal', 'crocantitos', 'cron', 'cronistacom', 'croquetas', 'crostini', 'cruasán', 'crucampo', 'crucero', 'crudo', 'cruiser', 'crujiente', 'crujientes', 'cruz', 'cruzando', 'cruzar', 'cruzcampo', 'cruzcampoy', 'cse', 'cuales', 'cualquier', 'cualquiera', 'cualquierafelicidades', 'cuanto', 'cuantos', 'cuarentena', 'cuarto', 'cuartos', 'cuatro', 'cube', 'cubierta', 'cubierto', 'cubiertos', 'cubitos', 'cubre', 'cubrir', 'cuchara', 'cucharada', 'cucharadas', 'cucharadita', 'cucharadotas', 'cucharas', 'cucharear', 'cuco', 'cucuruchodehelado', 'cuenca', 'cuenta', 'cuentas', 'cuente', 'cuentes', 'cuento', 'cuerito', 'cuesta', 'cuestas', 'cuestión', 'cuida', 'cuidado', 'cuidan', 'cuidar', 'cuidarme', 'cuido', 'cuidé', 'culinarios', 'culpa', 'culpables', 'cultura', 'culturas', 'cumaná', 'cumba', 'cumbicus', 'cumpla', 'cumple', 'cumpleaños', 'cumples', 'cumplida', 'cumplido', 'cumpliendo', 'cumplir', 'cumplí', 'cunco', 'cundo', 'cup', 'cupcake', 'cupcakeen', 'cupcakes', 'cupón', 'curable', 'curame', 'curo', 'curso', 'cursos', 'cushqui', 'cuádruple', 'cuál', 'cuándo', 'cuánto', 'cuéntales', 'cuéntanos', 'cuídense', 'cuñis', 'czgnb', 'cámaradefotos', 'césar', 'círculo', 'cítrico', 'código', 'códigos', 'cómeme', 'cómo', 'cómodo', 'cómplice', 'cómplices', 'córdoba', 'daba', 'dado', 'daisy', 'dale', 'dama', 'damaris', 'dame', 'damos', 'dan', 'dance', 'dando', 'danet', 'danete', 'daniel', 'daniela', 'daniels', 'dar', 'daremos', 'darle', 'darme', 'darnos', 'darse', 'daré', 'daría', 'das', 'data', 'dato', 'datos', 'datus', 'david', 'davis', 'dayanara', 'dañaron', 'daños', 'dddddd', 'de', 'debajo', 'debate', 'debatiendo', 'debe', 'debemos', 'deben', 'deberes', 'deberian', 'debería', 'deberían', 'debes', 'debido', 'debilidades', 'debo', 'decaído', 'decia', 'decide', 'decidió', 'decidle', 'deciliosos', 'decime', 'decimelo', 'decir', 'decirle', 'decirles', 'decirlo', 'decirme', 'decirte', 'decis', 'decisión', 'declaro', 'decoracion', 'decoración', 'decorado', 'decorarlo', 'decorativos', 'decía', 'decían', 'dedicación', 'dedico', 'deditos', 'deditoy', 'dedocorazónhaciaarribatonodepielclaro', 'dedos', 'dedoscruzados', 'dedoíndicehaciaarriba', 'dedoíndicehaciaarribatonodepielclaromedio', 'defecto', 'defectos', 'definitivamente', 'defraudado', 'degalina', 'degusta', 'degustación', 'degustando', 'degustar', 'dei', 'deja', 'dejad', 'dejame', 'dejamos', 'dejan', 'dejando', 'dejar', 'dejarles', 'dejarnos', 'dejarte', 'dejaste', 'deje', 'dejo', 'dejáis', 'dejó', 'delante', 'delantero', 'delcid', 'deleitandonos', 'deleitare', 'deleitarse', 'delen', 'delgado', 'deli', 'delia', 'delicado', 'delicia', 'delicias', 'delicio', 'deliciosa', 'deliciosas', 'delicioso', 'deliciosopues', 'deliciosos', 'delicious', 'delilu', 'deliluec', 'delilujoder', 'delilù', 'delilú', 'delilúesdelicioso', 'delilúmiamor', 'delilúprefiero', 'delilús', 'delilü', 'delisia', 'delisioso', 'deliú', 'delos', 'delucios', 'demas', 'demasiado', 'demora', 'demorado', 'demostrar', 'demostrarme', 'demuestra', 'demuestro', 'demás', 'den', 'denis', 'denle', 'denominación', 'dentro', 'denunció', 'depende', 'dependerá', 'depicitan', 'depiditar', 'depisitar', 'deposita', 'depositar', 'depositarlos', 'deposite', 'depositen', 'deposito', 'deposité', 'derame', 'derapa', 'derecha', 'derecho', 'deretido', 'deritiendo', 'derito', 'derotó', 'des', 'desafiodelafavoritael', 'desafiolafavorita', 'desanimas', 'desaparecidos', 'desarolados', 'desarolar', 'desastre', 'desayuno', 'desayunos', 'desbloquea', 'descance', 'desconectao', 'descubre', 'descubrirlo', 'descubrirás', 'descubrí', 'descuida', 'dese', 'desea', 'deseado', 'deseamos', 'desean', 'deseando', 'desearía', 'desechables', 'deseguro', 'desempleado', 'deseo', 'deseos', 'deses', 'desesperadas', 'deshecha', 'desmayo', 'despensa', 'despes', 'despide', 'despiste', 'desprecias', 'desprenda', 'desprendible', 'desprendibles', 'despues', 'después', 'destapar', 'destino', 'desvela', 'detalado', 'detale', 'detales', 'detengo', 'deuda', 'deudas', 'deysi', 'dhaber', 'dia', 'diadelchef', 'diadelpadre', 'diagonal', 'diana', 'diaria', 'diariapor', 'diario', 'diarios', 'dias', 'diaz', 'dibujada', 'dibuje', 'dice', 'dicembre', 'dicen', 'dicha', 'dicho', 'diciendo', 'dicionario', 'diciéndome', 'dictara', 'diego', 'diegorito', 'dieron', 'dieta', 'diferencia', 'diferente', 'diferentes', 'dificil', 'difrutar', 'difícil', 'diga', 'digan', 'diganos', 'digas', 'digeribles', 'digital', 'digna', 'digno', 'digo', 'dije', 'dijeron', 'dijital', 'dijo', 'dime', 'dimos', 'dineral', 'dinero', 'dino', 'dinámica', 'dio', 'dios', 'diosisto', 'diputación', 'direción', 'directamente', 'directi', 'directo', 'directora', 'diremos', 'dirigirte', 'dirán', 'diría', 'dis', 'discapacidad', 'discule', 'disculpe', 'disculpen', 'diseñador', 'diseño', 'diseños', 'disfruta', 'disfrutamos', 'disfrutando', 'disfrutar', 'disfrutarlas', 'disfrutarlo', 'disfruten', 'disfruto', 'disfrútalas', 'disfrútalo', 'disponen', 'disponible', 'disponibles', 'distingo', 'distinguirnos', 'distintos', 'distribueir', 'distribuidor', 'distribuidores', 'distribuye', 'diusfrutarlo', 'diversas', 'diversos', 'divertida', 'divertido', 'divertidos', 'divididos', 'divisaba', 'diviértete', 'diário', 'dió', 'dkgng', 'dlx', 'doblada', 'doble', 'docena', 'documentos', 'dog', 'dogs', 'dolor', 'dolorcito', 'dolores', 'domenica', 'domingo', 'domingos', 'dominguez', 'doméstica', 'don', 'donarfonzo', 'donas', 'dond', 'donde', 'donitas', 'donq', 'donthy', 'dora', 'doradito', 'doramos', 'dorisita', 'doritos', 'dormidos', 'dormir', 'dormirían', 'dormiste', 'dorsodemanoconíndicealaderecha', 'dorsodemanoconíndicealaizquierda', 'dos', 'doscorazones', 'dotes', 'douglas', 'doy', 'doña', 'duda', 'dudas', 'dudo', 'dueña', 'dueño', 'dulce', 'dulcecit', 'dulces', 'dulcesol', 'dupla', 'duque', 'dura', 'duras', 'durazno', 'duraznos', 'durisoma', 'duro', 'durán', 'duvalín', 'dylcalese', 'dándole', 'década', 'día', 'días', 'dónde', 'dónut', 'düseldorf', 'eaea', 'ecelentes', 'echa', 'echenique', 'echo', 'echó', 'ecologistas', 'ecomico', 'economica', 'economista', 'economía', 'economícamente', 'económica', 'económico', 'económicos', 'ecu', 'ecuador', 'ecuatoriana', 'ecuatorianas', 'ecuatoriano', 'ecuatorianos', 'ecuavisa', 'eda', 'edad', 'edgar', 'edison', 'edpeciak', 'educacion', 'efa', 'efectivo', 'efecto', 'efectos', 'efeempresas', 'efesé', 'efren', 'ejemplar', 'ejemplo', 'ejercicios', 'ejla', 'el', 'ela', 'elaborado', 'elaborar', 'elaborarla', 'elaborará', 'elaceite', 'elas', 'elchoco', 'elconcurso', 'eleción', 'electricista', 'electrónico', 'elegante', 'elegidos', 'elegimos', 'elegir', 'elegiría', 'elegí', 'elementos', 'elena', 'elenano', 'eleva', 'elevada', 'elevadoras', 'elexitocomoquisiera', 'eliana', 'elias', 'elige', 'elijas', 'elijo', 'eliminar', 'eliminaremos', 'elisa', 'elizabeth', 'elizalde', 'elmotor', 'elo', 'elos', 'elostener', 'elq', 'elsa', 'elsabor', 'elva', 'elvira', 'eléctrica', 'eléctrico', 'ema', 'emadeco', 'embarazadas', 'embutidos', 'emelie', 'emo', 'emocion', 'emocionada', 'emocionante', 'emoción', 'emos', 'emov', 'empacadora', 'empalagoso', 'empana', 'empanada', 'empanadas', 'empaques', 'empatía', 'empeso', 'empezamos', 'empezar', 'empeze', 'empieces', 'empiezan', 'empleado', 'empleados', 'empleo', 'empleos', 'emprendedor', 'emprendedora', 'emprendedoras', 'emprendedores', 'emprender', 'emprendera', 'emprendimiento', 'empresa', 'empresarial', 'empresarias', 'empresario', 'empresas', 'en', 'ena', 'enamora', 'enamorada', 'enamore', 'encanta', 'encantado', 'encantadora', 'encantan', 'encantaria', 'encantará', 'encantaría', 'encantasiempre', 'encanto', 'encantodelilú', 'encargo', 'enceboladas', 'encebolado', 'enceboladojamas', 'encegida', 'encerada', 'enchufaos', 'encima', 'encocado', 'encojono', 'encontraba', 'encontrado', 'encontrar', 'encontrarás', 'encontré', 'encostra', 'encostrar', 'encuentra', 'encuentran', 'encuentras', 'encuentro', 'encuesta', 'ende', 'endeudarme', 'endulsando', 'endulza', 'endurese', 'energía', 'enferme', 'enfermedad', 'enfermedades', 'enfermedadnuestrarecetala', 'enfermo', 'enfocados', 'enfrentarlo', 'enfrie', 'engalana', 'engaña', 'engañosa', 'engracia', 'enin', 'enjugandolos', 'enlace', 'enlance', 'enlas', 'enojando', 'enorme', 'enpanada', 'enpanadas', 'enprender', 'enrique', 'enrolado', 'ensala', 'ensalada', 'ensaladas', 'ensalda', 'ensamblar', 'ensamblará', 'enseguida', 'enserio', 'enseña', 'enseñado', 'enseñan', 'enseñar', 'enseño', 'enseñó', 'ensuavisa', 'entel', 'entender', 'entendiendo', 'entere', 'entero', 'entiendo', 'entnce', 'entonc', 'entonces', 'entra', 'entrada', 'entran', 'entrar', 'entrecot', 'entrega', 'entregagenerosidad', 'entregamos', 'entregan', 'entregar', 'entreriano', 'entrevistas', 'entristece', 'entusiasmo', 'entérate', 'envaces', 'enviaban', 'enviado', 'enviamos', 'envian', 'enviar', 'enviaron', 'enviaré', 'enviaste', 'envidia', 'envie', 'envolverlo', 'envuelto', 'envíanos', 'epeconomia', 'equipado', 'equipo', 'equivalente', 'ere', 'erejonista', 'eric', 'ericka', 'erika', 'ero', 'erolado', 'eror', 'es', 'escalar', 'escasos', 'escatimaré', 'escatimen', 'escenario', 'escobar', 'escogieron', 'escondidas', 'escondido', 'escondidos', 'escondiendo', 'escribe', 'escribeme', 'escribimos', 'escribirnos', 'escritor', 'escríbenos', 'escucha', 'escudo', 'escuela', 'escuelas', 'escuriendolos', 'escurimos', 'escurirndolos', 'escuro', 'esenciales', 'esforzarse', 'esfuerza', 'esfuerzo', 'esfuerzos', 'esla', 'esmeraldas', 'esmeraldeñas', 'esnlo', 'espaciadores', 'espacio', 'espadínde', 'espagueti', 'españa', 'español', 'española', 'espec', 'especial', 'especiales', 'especialidad', 'especialmente', 'especias', 'especie', 'especies', 'especificar', 'espectacular', 'espectaculares', 'específica', 'espeluznante', 'espera', 'esperabas', 'esperamos', 'esperando', 'esperanfo', 'esperanza', 'esperanzas', 'esperar', 'esperaremos', 'esperas', 'espero', 'esperomos', 'espi', 'espigadearroz', 'espinoza', 'espirales', 'esplique', 'espléndidas', 'esponjosa', 'esposa', 'esposito', 'esposo', 'espérala', 'espéralo', 'espéranos', 'esquicito', 'est', 'estabilidad', 'estable', 'establecer', 'estacada', 'estadio', 'estafa', 'estafado', 'estafadores', 'estalin', 'estamos', 'estan', 'estare', 'estaria', 'esteban', 'estefania', 'estefy', 'estela', 'esteman', 'esten', 'esthela', 'estilado', 'estimada', 'estimado', 'estimados', 'estofado', 'estomago', 'estrategia', 'estraño', 'estrela', 'estrellabrillante', 'estrena', 'estrenar', 'estrés', 'ests', 'estudiando', 'estudiantes', 'estudiar', 'estudie', 'estudien', 'estudio', 'estudios', 'estudió', 'estupendo', 'estás', 'estética', 'etc', 'etiqueta', 'ets', 'eugenia', 'europa', 'eve', 'evelyn', 'eventos', 'evidentepor', 'evita', 'evitar', 'evitarles', 'evolucionado', 'exactamente', 'exacto', 'excelencia', 'excelente', 'excelentes', 'exceso', 'exclusivos', 'exelent', 'exelente', 'exelentes', 'exelrnte', 'exisitir', 'existe', 'existen', 'existir', 'exito', 'exitos', 'expectativa', 'experience', 'experiencia', 'experto', 'expertos', 'explica', 'explicando', 'explicarte', 'expliquen', 'explocion', 'explosión', 'explotar', 'exquiero', 'exquisita', 'exquisitas', 'exquisito', 'exquisitoacompañado', 'exquisitos', 'extenciones', 'extender', 'extendido', 'extiende', 'extra', 'extraer', 'extranjeras', 'extraordinarios', 'extrañe', 'extraño', 'extremadamente', 'fabian', 'fabiola', 'faborita', 'fabrica', 'fabricacion', 'fabricantes', 'fabricaran', 'fabricarse', 'fabricasa', 'fabricio', 'fabril', 'fabrilese', 'fabuloso', 'fabulosos', 'faceb', 'facebok', 'facial', 'facil', 'facilite', 'facin', 'facina', 'facundo', 'fajardo', 'falabela', 'falan', 'falece', 'falecio', 'faleció', 'falsa', 'falsificado', 'falta', 'faltaba', 'faltan', 'faltar', 'falte', 'faltes', 'falto', 'famila', 'familas', 'familia', 'familiac', 'familiahombremujerniñaniña', 'familiahombremujerniñaniño', 'familiamujermujerniñaniño', 'familiar', 'familiares', 'familias', 'famosa', 'famoso', 'fan', 'fanesca', 'fanezca', 'fanpage', 'fans', 'fantasma', 'fantastico', 'fantástico', 'fany', 'farsa', 'fascina', 'fasil', 'fav', 'favirita', 'favoita', 'favor', 'favorecida', 'favorecido', 'favorira', 'favorita', 'favoritaconcentrado', 'favoritadia', 'favoritala', 'favoritami', 'favoritaparte', 'favoritas', 'favoritaspero', 'favoritay', 'favorito', 'favoritos', 'favoritovíctor', 'favotia', 'fea', 'febrero', 'fecebok', 'fecha', 'fechas', 'federico', 'fef', 'felices', 'felicidad', 'felicidades', 'felicidadez', 'felicidafes', 'felicitacidades', 'felicitaciones', 'felicitamos', 'felicito', 'felisitaciones', 'feliz', 'felíz', 'feminista', 'fer', 'ferchonet', 'fernanda', 'fernandes', 'fernandez', 'fernando', 'fernet', 'festejamos', 'festejar', 'festiva', 'fiat', 'fiatchrysler', 'fideitos', 'fideo', 'fiel', 'fieles', 'fierero', 'fiesta', 'fiestas', 'fiestasson', 'fifa', 'figura', 'figuras', 'figuritas', 'fila', 'filas', 'fileteada', 'filo', 'filoetara', 'filosofema', 'fin', 'fina', 'final', 'finalizó', 'financiera', 'fines', 'fino', 'finvacaciones', 'firma', 'firman', 'firme', 'fis', 'fitas', 'flaca', 'flan', 'flavorita', 'flecha', 'flechahacialaderecha', 'flor', 'flores', 'flotante', 'flury', 'foletos', 'fondo', 'for', 'ford', 'fordhub', 'forjar', 'forma', 'formada', 'formado', 'formamos', 'formar', 'formas', 'formato', 'formulario', 'fornite', 'fortalecer', 'fortaleza', 'fotbal', 'foto', 'fotografías', 'fotográfico', 'fotos', 'frace', 'fran', 'francesa', 'francia', 'franco', 'francés', 'franquicia', 'frapé', 'frasco', 'frascos', 'frase', 'fredy', 'frei', 'freimo', 'freir', 'freirlas', 'freirse', 'frejol', 'frejoles', 'frenar', 'freno', 'frente', 'fresa', 'fresas', 'fresca', 'fresco', 'fresh', 'fresquita', 'frezer', 'fria', 'frita', 'fritada', 'fritar', 'fritas', 'frito', 'fritos', 'frió', 'front', 'frutas', 'frutila', 'frutilas', 'frutos', 'fréjoles', 'fría', 'frías', 'frío', 'fuck', 'fuego', 'fuentes', 'fueronos', 'fuerte', 'fuertes', 'fuertesleva', 'fuerza', 'fuerzas', 'fuetza', 'fuimos', 'ful', 'funciona', 'funda', 'fundación', 'fundador', 'fundamental', 'fundas', 'fundita', 'fundó', 'furgoneta', 'futuro', 'fábrica', 'fácil', 'fáciles', 'fátima', 'fórmula', 'fútbol', 'gabina', 'gabinete', 'gabriela', 'gabucha', 'gaby', 'gacer', 'gagar', 'galeta', 'galetas', 'galetita', 'galetitas', 'galicia', 'galiciacomo', 'galina', 'galinay', 'galito', 'galleta', 'galpón', 'gama', 'gambafrita', 'gana', 'ganado', 'ganador', 'ganadora', 'ganadoras', 'ganadores', 'ganadors', 'ganamos', 'ganancias', 'ganar', 'ganara', 'ganaras', 'ganare', 'ganarme', 'ganarmelo', 'ganaron', 'ganará', 'ganaría', 'ganas', 'gane', 'ganemos', 'gano', 'gansito', 'gané', 'ganó', 'garaicoa', 'garanterizada', 'garantía', 'garcia', 'garciamily', 'garzon', 'gasolina', 'gasolinera', 'gasper', 'gastar', 'gastos', 'gastronomia', 'gastronomía', 'gatollorando', 'gatosonriendo', 'gatosonriendoconojosdecorazón', 'gatuchi', 'gaveta', 'geancarlos', 'gema', 'geminiana', 'genera', 'general', 'generalmente', 'generar', 'genere', 'genero', 'genesis', 'genial', 'genta', 'gente', 'geo', 'george', 'geovany', 'gerard', 'gerente', 'germa', 'germam', 'gertrudis', 'gesto', 'gibraltar', 'gigante', 'gigantes', 'gilda', 'gina', 'ginacio', 'ginebra', 'gioconda', 'giova', 'girasol', 'giselita', 'gladis', 'gladys', 'glenda', 'glendy', 'globo', 'globoterráqueomostrandoamérica', 'gloria', 'glucosa', 'gobernar', 'godin', 'golazo', 'golosina', 'golpe', 'gomitas', 'gonzale', 'gonzales', 'gonzalez', 'gonzález', 'gora', 'gorda', 'gordo', 'gotas', 'gotasdesudor', 'goya', 'gozar', 'gracia', 'gracias', 'graciasestaré', 'graciasjajajaja', 'graciasjijiji', 'graciasx', 'graduación', 'graduados', 'gran', 'granada', 'grandar', 'grande', 'grandes', 'grandiosos', 'graneado', 'graneados', 'granizadohawaiano', 'granos', 'grasa', 'grasos', 'gratificante', 'gratis', 'gratuita', 'gratuitos', 'grey', 'greyjoy', 'grifocola', 'gris', 'gritaria', 'gruesa', 'grumos', 'grupo', 'grupos', 'gsus', 'guacala', 'guacamole', 'guacho', 'guadalupe', 'guamán', 'guanajuato', 'guapa', 'guapisima', 'guardada', 'guardar', 'guarden', 'guardias', 'guatita', 'guau', 'guayaquil', 'guayaquilangela', 'guayaquilecuador', 'gudta', 'guera', 'guerera', 'guerero', 'guiado', 'guilermo', 'guimos', 'guineo', 'guineocon', 'guineos', 'guiso', 'guisos', 'guitarra', 'gusta', 'gustaba', 'gustado', 'gustan', 'gustar', 'gustaria', 'gustarme', 'gustaron', 'gustaría', 'gustas', 'gustavosam', 'guste', 'gustito', 'gusto', 'gustó', 'guía', 'gym', 'gäbüxïtä', 'génesis', 'haber', 'haberle', 'haberprimero', 'habia', 'habiamos', 'habilidades', 'habituales', 'habla', 'hablada', 'hablame', 'hablan', 'hablando', 'hablar', 'hace', 'hacemos', 'hacen', 'hacendado', 'hacendosas', 'hacer', 'hacerla', 'hacerlas', 'hacerle', 'hacerles', 'hacerlo', 'hacerlos', 'hacerme', 'hacerse', 'haces', 'hacia', 'haciendo', 'haciéndolo', 'haga', 'hagamos', 'hagan', 'hago', 'hagámoslo', 'haiti', 'hala', 'half', 'halowen', 'hambre', 'hamburguesa', 'hamburguesas', 'hanar', 'hanaska', 'hanga', 'haoan', 'hare', 'harina', 'hará', 'haré', 'haría', 'has', 'hashtag', 'haters', 'havia', 'hay', 'hayde', 'hcer', 'hecha', 'hechas', 'hecho', 'hechos', 'hei', 'heidye', 'heineken', 'heinekenyo', 'helada', 'heladera', 'helado', 'helados', 'helen', 'hemoso', 'henkel', 'herere', 'hermana', 'hermanas', 'hermanita', 'hermano', 'hermanos', 'hermelinda', 'hermosa', 'hermosas', 'hermoso', 'hermosos', 'hernana', 'heros', 'hervida', 'hey', 'hice', 'hicieron', 'hicimos', 'hidráulica', 'hidrógeno', 'hierbas', 'hierva', 'hija', 'hijas', 'hijita', 'hijo', 'hijos', 'hijosfamilia', 'hijospero', 'hilo', 'hilux', 'hincha', 'hinojosa', 'hiper', 'hirviendo', 'historia', 'hize', 'hizo', 'hizos', 'hlx', 'hna', 'hno', 'hocico', 'hogar', 'hogares', 'hoja', 'hojas', 'hojitas', 'hokey', 'hola', 'holandesa', 'hombre', 'hombres', 'hombro', 'homogénea', 'honey', 'honor', 'hora', 'horario', 'horas', 'horibles', 'horita', 'hormigas', 'hornado', 'horneaditos', 'horno', 'horor', 'hot', 'house', 'hoy', 'htp', 'hueca', 'huellasdepies', 'hueso', 'huesos', 'huevito', 'huevo', 'huevola', 'huevos', 'huevossopa', 'hugo', 'huguito', 'humano', 'humanos', 'humilde', 'humitas', 'humor', 'huntarlo', 'huratdo', 'hurtado', 'huyo', 'hyundai', 'hábiles', 'hágase', 'héctor', 'héroes', 'híbrido', 'iceberg', 'icomamosjuntosconlacuchara', 'idea', 'ideal', 'ideales', 'identidad', 'identifico', 'idiota', 'ido', 'idolo', 'iglesias', 'ignorante', 'igual', 'igualar', 'igualmente', 'ilusión', 'imagen', 'imagínate', 'imginar', 'impaciente', 'impactada', 'impartiendo', 'imperactiva', 'imperial', 'impero', 'importante', 'importantes', 'importar', 'imposible', 'impresiones', 'impresora', 'impriman', 'improvisar', 'incendio', 'incentivar', 'incluir', 'incluirlo', 'incluso', 'incomparable', 'incompleta', 'incondicional', 'inconveniente', 'inconvenientes', 'incoparable', 'increibles', 'incrementar', 'increíble', 'increíbles', 'inculco', 'independencia', 'indicarme', 'indicó', 'indignación', 'indio', 'inditex', 'industria', 'industrial', 'industrias', 'ineresa', 'inesita', 'infaltable', 'infantil', 'infinita', 'infinito', 'influir', 'infor', 'informacion', 'información', 'informar', 'informarnos', 'inglés', 'ingredien', 'ingrediente', 'ingredientes', 'ingresa', 'ingresar', 'ingresas', 'ingresen', 'ingreso', 'ingrid', 'inguilay', 'inhundaciones', 'inicia', 'inicial', 'inician', 'iniciando', 'iniciarán', 'iniciativa', 'inicio', 'inicios', 'inigual', 'inigualable', 'injusto', 'inmersivo', 'inmortalizan', 'inorancia', 'inovador', 'inovadora', 'inscribir', 'inscribirme', 'inscribirte', 'inscribí', 'inscripción', 'inscrita', 'inscríbete', 'insisto', 'inspeción', 'inspiración', 'inspiró', 'instagram', 'instante', 'insumos', 'insuperable', 'insípida', 'integra', 'integral', 'integrales', 'integramente', 'integramos', 'integrante', 'inteligentes', 'intenso', 'intentado', 'intentalo', 'intentare', 'intentarlo', 'intento', 'intercambiar', 'intercambio', 'interesa', 'interesada', 'interesante', 'interesantes', 'intergrar', 'interior', 'interminablesy', 'internacional', 'internacionalmente', 'internet', 'interno', 'internos', 'interés', 'intocable', 'intoxicado', 'intriago', 'introducirse', 'inténtelo', 'invencible', 'invento', 'inversión', 'invertiria', 'invertirá', 'invertirás', 'investigar', 'investiguen', 'invierno', 'invita', 'invitado', 'invitamos', 'invitan', 'invitana', 'invitar', 'inviteme', 'invito', 'inválido', 'inés', 'ionr', 'iorena', 'iphone', 'irene', 'iresistible', 'iresponsables', 'irlanda', 'irme', 'iría', 'isa', 'isabel', 'ise', 'isla', 'islamista', 'israel', 'italian', 'italianos', 'italo', 'iv', 'ivan', 'ivana', 'iveth', 'izquierda', 'izquierdos', 'jachero', 'jack', 'jacquelin', 'jacqueline', 'jacquita', 'jactan', 'jadore', 'jaj', 'jaja', 'jajaj', 'jajaja', 'jajajaja', 'jajajajaj', 'jajajajaja', 'jajajajajaja', 'jajajajajajajaja', 'jajajajajajajajaja', 'jajajajajajajajajajajajaja', 'jajajajajajajajajajajajajaja', 'jamie', 'jamon', 'jamás', 'jamón', 'janeth', 'japon', 'japonesas', 'japón', 'jara', 'jaramilo', 'jarin', 'jarradecerveza', 'jarrasdecervezabrindando', 'jarto', 'javier', 'jaz', 'jea', 'jean', 'jefe', 'jeferson', 'jehova', 'jeje', 'jejej', 'jejeje', 'jejey', 'jeky', 'jenifer', 'jente', 'jeny', 'jenyfer', 'jesi', 'jesica', 'jesus', 'jet', 'jevas', 'jhany', 'jhormel', 'jijiji', 'jijijiji', 'jijijijiji', 'jimy', 'jiménez', 'jinez', 'jjajs', 'jmbr', 'joel', 'jofre', 'joha', 'johana', 'johanes', 'jokeys', 'jopeta', 'jor', 'jorge', 'jorma', 'jornada', 'josafat', 'jose', 'joseph', 'josue', 'josué', 'josé', 'journey', 'joven', 'jovovich', 'juan', 'juana', 'juanchezco', 'juanito', 'juega', 'juego', 'jueves', 'jugadores', 'jugar', 'jugo', 'jugos', 'jugosa', 'jugoso', 'juguito', 'juimos', 'juleidy', 'julia', 'juliana', 'julio', 'jumbo', 'jungla', 'junior', 'junta', 'juntar', 'juntas', 'junto', 'juntos', 'juro', 'jusgar', 'justamente', 'justo', 'juzgamos', 'jóvenes', 'jóvenesuela', 'karaoke', 'karen', 'karim', 'karina', 'karla', 'karwn', 'kat', 'kata', 'katherine', 'katia', 'kdelicia', 'kede', 'keiner', 'kelogs', 'kely', 'kenia', 'kerida', 'kerly', 'key', 'keylor', 'keys', 'khe', 'kia', 'kiateinforma', 'kiennoa', 'kiero', 'kilo', 'kinder', 'kiosco', 'kiosko', 'kisiera', 'kit', 'kitkats', 'kius', 'kiwi', 'kiza', 'kpc', 'la', 'laacademialafavorita', 'label', 'labios', 'laboral', 'laboran', 'labores', 'lac', 'lactal', 'ladines', 'lado', 'ladpo', 'ladronas', 'ladrones', 'lafavorita', 'lafavoritaec', 'lago', 'laight', 'lake', 'lalis', 'lama', 'lamada', 'laman', 'lamando', 'lamarlo', 'lamboneria', 'lamento', 'lamo', 'lamáis', 'land', 'langosta', 'langostinos', 'lanza', 'lanzamientos', 'lanzar', 'lanzarán', 'lanzo', 'lapieza', 'lapingachos', 'lareami', 'larecetadelexito', 'largo', 'las', 'lasaña', 'lata', 'latas', 'late', 'laterales', 'latercera', 'latitas', 'laura', 'laurel', 'laurita', 'lavada', 'lavanderia', 'lavaxora', 'lavo', 'lay', 'lazaro', 'lazañas', 'league', 'leche', 'lechuga', 'lechugas', 'leda', 'ledoy', 'leencanta', 'lega', 'legaba', 'legada', 'legado', 'legales', 'legan', 'legando', 'legar', 'legaron', 'legas', 'legiao', 'legión', 'lego', 'legue', 'leguen', 'legumbres', 'legumgres', 'leidy', 'lejos', 'lena', 'lenando', 'lenar', 'lengua', 'lenito', 'leno', 'lentejas', 'leo', 'leon', 'leonel', 'leonela', 'leonidas', 'leonor', 'leoroxy', 'ler', 'lesbiano', 'lesly', 'lesviano', 'leticia', 'letra', 'leva', 'levaduraa', 'levan', 'levanta', 'levantamos', 'levantando', 'levantar', 'levantarme', 'levantarse', 'levanto', 'levar', 'levarlos', 'levarme', 'levarpor', 'leve', 'lever', 'levo', 'leváis', 'levé', 'levó', 'lexus', 'ley', 'leí', 'leído', 'libertad', 'libre', 'libres', 'libros', 'liciadad', 'licores', 'liderando', 'lidia', 'lidl', 'ligando', 'ligero', 'light', 'like', 'liliam', 'lilian', 'liliana', 'limaromina', 'limon', 'limpia', 'limpiar', 'limpieza', 'limpio', 'limpió', 'limón', 'lina', 'linaje', 'linda', 'lindas', 'lindera', 'lindo', 'lindos', 'lingh', 'link', 'lino', 'liquidos', 'lirios', 'lis', 'lisbeth', 'liset', 'lisi', 'lista', 'listas', 'listo', 'litro', 'litros', 'litroso', 'lix', 'llamamiento', 'llegamos', 'llego', 'llenar', 'llevamos', 'llevare', 'llumigusin', 'lo', 'loa', 'lobo', 'local', 'locales', 'loco', 'locrito', 'locro', 'locros', 'locroscualquier', 'logo', 'logotipo', 'logrado', 'lograr', 'lograria', 'lograrás', 'logras', 'logre', 'logreen', 'logro', 'logré', 'logró', 'loja', 'lok', 'lokes', 'lola', 'lolis', 'loly', 'lomaximo', 'lomo', 'londres', 'lopez', 'lor', 'lora', 'lorar', 'lord', 'lore', 'loreal', 'loren', 'lorena', 'lorenzo', 'lorgia', 'loro', 'los', 'loteria', 'lotería', 'louis', 'lourdes', 'lousa', 'love', 'lovoy', 'loza', 'lpm', 'lucha', 'luchado', 'luchador', 'luchadora', 'luchadoras', 'luchar', 'luchas', 'lucho', 'lucirá', 'lucra', 'luego', 'luevan', 'lugar', 'lugares', 'luis', 'luisy', 'luli', 'luna', 'lunch', 'lunes', 'luque', 'luvias', 'luz', 'lwvan', 'lámpara', 'lápiz', 'láser', 'léanlo', 'lévate', 'líderes', 'límite', 'límites', 'línea', 'lío', 'lúpulo', 'mac', 'macay', 'maceramos', 'macho', 'macias', 'macri', 'madera', 'madre', 'madrecita', 'madreela', 'madres', 'madresita', 'madrid', 'maduro', 'maduros', 'maestra', 'maestro', 'maestría', 'mafernanda', 'maga', 'magaly', 'magnate', 'mahou', 'maiz', 'majada', 'majado', 'majamos', 'majito', 'mal', 'mala', 'malas', 'maldita', 'malecón', 'maletero', 'malo', 'malos', 'malteada', 'malvavisco', 'malvaviscos', 'malísima', 'mama', 'mami', 'mamita', 'mamá', 'man', 'manaba', 'manabita', 'manabitaes', 'manabitas', 'manabí', 'manchamos', 'manda', 'mandaba', 'mandamos', 'mandando', 'mandar', 'mande', 'mandes', 'mando', 'manera', 'maneras', 'manhatan', 'mani', 'mania', 'manifiestate', 'manis', 'manjar', 'mano', 'manoconseñaldevictoria', 'manoconseñaldevictoriatonodepielclaro', 'manohaciendoelsignodecuernos', 'manos', 'manosabiertas', 'manosaludando', 'manosaplaudiendo', 'manosaplaudiendotonodepielclaro', 'manosaplaudiendotonodepielclaromedio', 'manosaplaudiendotonodepielmedio', 'manosaplaudiendotonodepieloscuromedio', 'manosenoración', 'manoslevantadascelebrando', 'manoslevantadascelebrandotonodepielclaro', 'manoslevantadascelebrandotonodepielclaromedio', 'manta', 'manteca', 'mantendrá', 'mantener', 'mantenerla', 'mantenga', 'mantente', 'mantenía', 'mantequila', 'mantiene', 'mantila', 'manténgase', 'manualidades', 'manuel', 'manuela', 'manzanalafavorita', 'manzanita', 'maní', 'maquilaje', 'mar', 'maravila', 'maravilo', 'maravilosa', 'maravilosas', 'maraviloso', 'marbila', 'marca', 'marcadebeso', 'marcador', 'marcan', 'marcas', 'marcelita', 'marcelo', 'marcha', 'marcia', 'marearse', 'margarina', 'margarita', 'maria', 'marian', 'mariana', 'mariano', 'maribel', 'maricela', 'maricruz', 'mariela', 'marihuana', 'marilin', 'marin', 'marina', 'marinada', 'marinela', 'marinero', 'mario', 'mariposas', 'marisco', 'mariscos', 'marisol', 'marisqueria', 'marita', 'maritza', 'mariu', 'mariuxi', 'marjorie', 'market', 'marketing', 'marlene', 'marmoleado', 'martha', 'marthi', 'marthy', 'martinez', 'marty', 'maru', 'marvelyn', 'marvin', 'mary', 'maryuri', 'maría', 'mas', 'masa', 'mascamos', 'maslindo', 'matambre', 'matar', 'mataron', 'materiales', 'matine', 'mato', 'matricula', 'matriz', 'maxi', 'maximo', 'maydeth', 'mayeli', 'mayonesa', 'mayor', 'mayores', 'mayorista', 'mayoritariamente', 'mayoría', 'mayra', 'maythe', 'mazda', 'mazorca', 'maíz', 'mañana', 'mañanas', 'mccarthy', 'mcflury', 'mdf', 'me', 'meado', 'meados', 'meao', 'mecanismo', 'mecánica', 'mecánico', 'medala', 'medalas', 'medalladeoro', 'medalones', 'media', 'medias', 'medida', 'medidor', 'medina', 'medio', 'medios', 'mega', 'megustan', 'mejo', 'mejor', 'mejora', 'mejorando', 'mejore', 'mejores', 'mejoria', 'mejorparticipando', 'mejía', 'melina', 'melisa', 'melita', 'melo', 'melocos', 'meló', 'meme', 'mena', 'mendez', 'mendieta', 'menestra', 'meno', 'menor', 'menos', 'mensaje', 'mensajes', 'mente', 'mentes', 'mentey', 'mentir', 'mentira', 'menuda', 'menudo', 'mera', 'mercado', 'mercadona', 'merced', 'mercedes', 'merchán', 'mercy', 'mereces', 'merezca', 'merezco', 'merienda', 'mero', 'mery', 'mes', 'mesa', 'mesas', 'meses', 'meseta', 'meta', 'metas', 'mete', 'meten', 'meter', 'meterla', 'metido', 'meto', 'mexicano', 'mezcla', 'mezclado', 'mezclamos', 'mezclar', 'mezclas', 'mi', 'mia', 'micaela', 'michael', 'michas', 'michele', 'michelob', 'micro', 'miedo', 'miel', 'mieles', 'mientras', 'mierda', 'mierdas', 'miga', 'migas', 'mignone', 'miguel', 'miguellaimon', 'mija', 'mijas', 'mil', 'mila', 'milagro', 'milagrosa', 'milde', 'miler', 'milhouse', 'milka', 'milonario', 'milones', 'milshake', 'mimadre', 'mimadrecita', 'mina', 'mini', 'minibocata', 'minimo', 'minmami', 'minutos', 'mio', 'mios', 'mira', 'mirar', 'mire', 'mireya', 'miriam', 'misha', 'mishi', 'mishima', 'misma', 'mismas', 'mismo', 'mismos', 'mistad', 'misteriosa', 'mitad', 'mitades', 'mitsubishi', 'mix', 'mixta', 'mixto', 'mjeor', 'mjohanys', 'mndo', 'modelos', 'modesta', 'modestia', 'modificarlo', 'modos', 'modula', 'modular', 'modulo', 'mojadito', 'moky', 'mola', 'molde', 'moldes', 'molemos', 'moler', 'molida', 'momento', 'momentos', 'mon', 'moncada', 'moncayo', 'monento', 'monica', 'monika', 'monikita', 'monito', 'monoconlabocatapada', 'monoconlosojostapados', 'monotonía', 'monovolumen', 'monse', 'monserat', 'monserate', 'monseratenarcisa', 'monstruos', 'montamos', 'montana', 'montar', 'montaña', 'monte', 'montecristi', 'montenegro', 'monterey', 'montes', 'montón', 'mora', 'morada', 'morales', 'moralesmarcia', 'moran', 'moreira', 'morena', 'moreno', 'morenos', 'morilo', 'morimos', 'morir', 'moro', 'morocho', 'moros', 'mortal', 'mosa', 'mosquera', 'mostaza', 'mostraron', 'motivacion', 'motivar', 'motivo', 'motomachi', 'motor', 'motors', 'mouse', 'moveos', 'mover', 'movilidad', 'movimiento', 'movistar', 'mozarela', 'mucha', 'muchas', 'muchines', 'muchis', 'muchisimad', 'muchisimas', 'muchoi', 'muchísima', 'muchísimas', 'muchísimo', 'muele', 'mueras', 'muere', 'muero', 'muertas', 'muerte', 'muestra', 'mufin', 'mujer', 'mujerbailandotonodepielclaro', 'mujerconlamanoenlafrente', 'mujerconlamanolevantada', 'mujerencogidadehombros', 'mujeres', 'mujertonodepielclaromedio', 'multiplicadla', 'multis', 'munchear', 'mundial', 'mundo', 'muriendo', 'murilo', 'murio', 'murió', 'musica', 'musicales', 'muslodepollo', 'mustard', 'muy', 'muñoz', 'myriam', 'mágico', 'málaga', 'máquina', 'máximo', 'méxico', 'mëlïsä', 'míni', 'mítico', 'mñn', 'módulo', 'módulos', 'mónica', 'móntate', 'músicos', 'nacional', 'nacionalidad', 'nació', 'nadanadita', 'nadie', 'nadita', 'names', 'nancy', 'naranja', 'narativos', 'narcisa', 'narcy', 'nat', 'nathalie', 'nati', 'natural', 'naty', 'natyquiros', 'navidad', 'navideña', 'nazaré', 'necesario', 'necesidad', 'necesidades', 'necesita', 'necesitaba', 'necesitamos', 'necesitan', 'necesitando', 'necesitas', 'necesito', 'necesitándo', 'ned', 'negociaciones', 'negociado', 'negocio', 'negocios', 'negociosacar', 'negoció', 'negra', 'negrito', 'negritos', 'negro', 'negros', 'nelci', 'nelita', 'nena', 'nenes', 'neny', 'nere', 'nesho', 'nesquik', 'nestor', 'neutro', 'never', 'nevera', 'nevá', 'new', 'neytan', 'nico', 'nicole', 'nicolás', 'nidian', 'nieta', 'nietas', 'nietos', 'nike', 'ninfa', 'ninguna', 'ninguno', 'ningún', 'niro', 'nisan', 'nito', 'nitro', 'niuno', 'nivel', 'nivela', 'niveles', 'niña', 'niñas', 'niñato', 'niño', 'niños', 'no', 'noche', 'noches', 'nombre', 'nombres', 'nop', 'norma', 'normal', 'normita', 'norte', 'nosabe', 'nose', 'nosostros', 'nostros', 'not', 'nota', 'notamusical', 'notasmusicales', 'noticia', 'noticias', 'notita', 'novelas', 'novia', 'novilo', 'novio', 'nro', 'nubla', 'nueces', 'nuera', 'nuestas', 'nuestrarecetalafavorita', 'nueva', 'nuevamente', 'nuevas', 'nuevo', 'nuevos', 'numero', 'nunca', 'nutela', 'nutelaxd', 'nutrientes', 'nutritiva', 'nutritivas', 'nutritivo', 'nuñez', 'néstor', 'número', 'oara', 'obra', 'obro', 'obsequiar', 'obsequio', 'observa', 'obstáculos', 'obtener', 'obvio', 'ocacion', 'ocacionados', 'ocasiones', 'ocasión', 'ocho', 'ochoa', 'ocion', 'ocon', 'octaba', 'octava', 'octavos', 'oculta', 'ocupa', 'odio', 'odysey', 'ofelia', 'oferecimento', 'oferta', 'ofertas', 'ofi', 'oficial', 'oficialmente', 'oficina', 'ofrece', 'ofrecerles', 'ofreciendoles', 'ofreser', 'ojala', 'ojalá', 'ojedamarcos', 'ojito', 'ojo', 'ojos', 'ok', 'oka', 'oki', 'ola', 'olaja', 'olga', 'olguita', 'olimpia', 'olita', 'oliva', 'oliver', 'olivo', 'olivos', 'olladecomida', 'olor', 'olvidate', 'olvide', 'olvides', 'olvido', 'olvidé', 'ome', 'omega', 'omg', 'omidas', 'online', 'opcion', 'opción', 'operacion', 'opinio', 'opinion', 'opiniones', 'opinión', 'oportunidad', 'oportunidades', 'ops', 'ora', 'oración', 'orden', 'oregano', 'oreja', 'orelana', 'oreo', 'oreos', 'organizacion', 'orgulo', 'orgulosamente', 'orguloso', 'original', 'originales', 'originalmente', 'originaria', 'orines', 'oro', 'ortiz', 'orégano', 'orígenes', 'oscar', 'oscuro', 'osea', 'osito', 'oso', 'osé', 'otero', 'overlock', 'oxida', 'oxidacion', 'oxidación', 'oxidarse', 'oxide', 'oye', 'pablo', 'pacheco', 'paciencia', 'paciente', 'pacientemente', 'pack', 'packs', 'padre', 'padreesposohijoamigo', 'padres', 'padrino', 'paela', 'paella', 'paga', 'pagaba', 'pagado', 'pagar', 'pagina', 'pago', 'paila', 'paine', 'pais', 'paises', 'pal', 'palabra', 'palabras', 'paladar', 'palamecia', 'palco', 'palio', 'palma', 'palodecorazones', 'palomitas', 'pame', 'pamelita', 'pan', 'pana', 'panaderia', 'panadero', 'panadería', 'panas', 'pancake', 'pancakes', 'pancaks', 'pancho', 'pancon', 'pandemia', 'pandemolde', 'panela', 'panes', 'panificación', 'pankeis', 'pankey', 'panque', 'panquecas', 'panquecitos', 'panqueque', 'panqueques', 'panquesitos', 'pantala', 'pantalón', 'panza', 'panzote', 'paola', 'paolis', 'papa', 'papas', 'papel', 'papi', 'papijoe', 'papirin', 'papitas', 'papito', 'papá', 'papánoel', 'paquete', 'par', 'para', 'parales', 'paranoid', 'parar', 'paraíso', 'parece', 'parecer', 'parecerse', 'parecido', 'pareció', 'parecían', 'pared', 'paredes', 'pareja', 'parejaenamorada', 'parejita', 'paren', 'parila', 'parilada', 'pariladas', 'parilas', 'parilero', 'paris', 'parmesano', 'paro', 'parque', 'parte', 'partes', 'participa', 'participació', 'participación', 'participado', 'participamos', 'participan', 'participando', 'participantes', 'participar', 'participare', 'participen', 'participes', 'participo', 'partido', 'partir', 'partner', 'pasa', 'pasaba', 'pasada', 'pasado', 'pasamos', 'pasar', 'pasará', 'pasas', 'pascual', 'pase', 'paseo', 'pasion', 'pasión', 'paso', 'pasos', 'pasta', 'pastas', 'paste', 'pastel', 'pasteleria', 'pastelería', 'pasteles', 'pastilaje', 'pastor', 'pasó', 'pata', 'patacones', 'patatas', 'patatasfritas', 'patcones', 'patio', 'pato', 'patriada', 'patricia', 'patricio', 'patrocinado', 'patrocinador', 'patrocinará', 'patrocinaría', 'patrocinio', 'patrocínio', 'paty', 'paula', 'paulanero', 'paulaners', 'paulet', 'paulita', 'pause', 'pauta', 'pava', 'pavo', 'pavos', 'payasa', 'paz', 'pazmiño', 'país', 'países', 'pdta', 'pearl', 'pechuga', 'pechuguitas', 'pedacitos', 'pedazo', 'pedazos', 'pedcadi', 'pedi', 'pedido', 'pedidos', 'pedir', 'pedo', 'pedro', 'pedroweider', 'pedían', 'pegar', 'pego', 'pegándole', 'peinado', 'pelamos', 'pelao', 'pelar', 'pelea', 'pelear', 'peli', 'peliculas', 'pelo', 'pelos', 'pelucas', 'película', 'películas', 'pena', 'penas', 'pendiente', 'pene', 'penemos', 'peninsula', 'pensaba', 'pensado', 'pensamiento', 'pensando', 'pensar', 'pensarlo', 'peor', 'pepa', 'pepiton', 'pepsi', 'pequ', 'pequeno', 'pequeña', 'pequeñas', 'pequeñitos', 'pequeño', 'pequeños', 'pequeňo', 'pera', 'peralta', 'percebera', 'percebes', 'percepción', 'perder', 'perderme', 'perdida', 'perdiz', 'perdomo', 'perdí', 'perdón', 'perejil', 'perez', 'pereza', 'perfecta', 'perfecto', 'perfil', 'perjil', 'permanece', 'permita', 'permite', 'permitirnos', 'pero', 'peroflauta', 'perores', 'perritocaliente', 'perseguían', 'perserverar', 'persevera', 'perseverancia', 'perseverante', 'persona', 'personaconlamanolevantada', 'personacorriendo', 'personaje', 'personajes', 'personal', 'personales', 'personalidad', 'personarecibiendomasajetonodepielclaro', 'personas', 'personasconorejasdeconejo', 'personitas', 'pertenecer', 'pertenezco', 'perturbador', 'peru', 'pesame', 'pesantes', 'pesar', 'pescado', 'pescados', 'pese', 'peso', 'petición', 'petita', 'peugeot', 'peña', 'peñafiel', 'phone', 'picaba', 'picada', 'picadas', 'picadito', 'picanteria', 'picnic', 'pidan', 'pide', 'piden', 'pidiendo', 'pidio', 'pidiéndole', 'pido', 'piedad', 'piede', 'piel', 'piensa', 'piensan', 'pienso', 'pienzo', 'pierda', 'pierdan', 'pierdas', 'pierde', 'pierden', 'pierdo', 'piesa', 'pieza', 'pilar', 'pilas', 'pile', 'piloso', 'pilot', 'pily', 'pimiebta', 'pimienta', 'pimiento', 'pimientos', 'pinargote', 'pinche', 'pinchos', 'pinta', 'pintor', 'pionce', 'piruleta', 'pirámide', 'pis', 'piscina', 'piscis', 'piso', 'pista', 'pistola', 'pistoletazo', 'pistones', 'pitaya', 'piza', 'pizaro', 'pizas', 'place', 'placer', 'plan', 'plancha', 'planear', 'planeta', 'planta', 'plasman', 'platano', 'platilo', 'platilos', 'plato', 'platos', 'play', 'playa', 'playaspero', 'plaza', 'plenamente', 'plis', 'pluas', 'plástica', 'plátano', 'pmi', 'pobrar', 'pobre', 'pobres', 'pocolámanos', 'pocoosea', 'pocos', 'podamos', 'podemita', 'podemos', 'poder', 'poderese', 'poderles', 'poderlo', 'poderme', 'podido', 'podria', 'podrá', 'podrás', 'podré', 'podría', 'podríamos', 'podía', 'podían', 'policial', 'polito', 'polo', 'polodesafiodelafavorita', 'poloretofavorita', 'poloretolafavorita', 'polémica', 'pon', 'pondre', 'pondremos', 'pone', 'ponemos', 'ponen', 'poner', 'ponerle', 'ponerlo', 'ponerlos', 'ponerme', 'ponernos', 'pones', 'ponga', 'pongale', 'pongame', 'pongas', 'pongo', 'poniendo', 'ponle', 'ponlo', 'ponme', 'pop', 'popu', 'poquito', 'por', 'porciones', 'porción', 'porf', 'porfa', 'porfavor', 'porfin', 'porfis', 'pork', 'porq', 'porqué', 'poser', 'posibilidad', 'posibilidades', 'posible', 'posición', 'positivo', 'post', 'postizos', 'postre', 'postrecito', 'postres', 'postventa', 'posupuesto', 'pot', 'pote', 'potencial', 'pozo', 'pra', 'practicamente', 'practicá', 'prado', 'precio', 'precios', 'preciosa', 'preciosos', 'preciso', 'precursor', 'preferencia', 'preferida', 'preferido', 'preferidos', 'preferimos', 'preferire', 'preferirnos', 'prefieren', 'prefieres', 'prefiero', 'pregunta', 'preguntan', 'preguntas', 'preguntita', 'pregunto', 'preguntó', 'prematuto', 'premio', 'premios', 'preocupacionea', 'preocupada', 'preocupado', 'preocupante', 'preocupe', 'preocupes', 'prepara', 'preparaba', 'preparacion', 'preparaciones', 'preparación', 'preparada', 'preparadas', 'preparado', 'preparados', 'preparamos', 'preparan', 'preparando', 'preparar', 'prepararlas', 'prepararnos', 'prepararte', 'prepararé', 'prepararía', 'preparaste', 'prepare', 'preparo', 'preparsndo', 'preparándola', 'prepárame', 'preselecinados', 'presentaciones', 'presentadora', 'presentando', 'presentarán', 'presente', 'presento', 'presentó', 'preservar', 'presidente', 'presio', 'prest', 'presta', 'prestigiosa', 'presumen', 'pretzel', 'previamente', 'previene', 'previsión', 'prima', 'primax', 'primer', 'primera', 'primeramente', 'primero', 'primeros', 'primordial', 'princesa', 'princesas', 'principalmente', 'principiante', 'principios', 'pringles', 'prisci', 'prius', 'pro', 'proace', 'prob', 'probada', 'probado', 'probar', 'probarla', 'probarlo', 'probarlos', 'problema', 'problemas', 'probé', 'procesando', 'proceso', 'producen', 'produciendo', 'producir', 'produción', 'producto', 'productos', 'productosmira', 'profe', 'profesionales', 'profesionalizarla', 'profesión', 'profesor', 'programa', 'promedioposibilidad', 'prometido', 'promo', 'promocion', 'promociona', 'promocional', 'promociones', 'promoción', 'pronto', 'pronóstico', 'propaganda', 'propia', 'propietaria', 'propio', 'propios', 'proponemos', 'propongamos', 'propongo', 'proporcionará', 'proporcionen', 'propuesta', 'propuestas', 'propulse', 'prospere', 'protagonismo', 'protagonistas', 'protegernos', 'protestando', 'proteína', 'provecho', 'provedor', 'proven', 'provincias', 'provocar', 'proxima', 'proximante', 'proximo', 'proyecto', 'proyectos', 'pruductos', 'prueba', 'pruebala', 'pruebas', 'pruebo', 'pruéabala', 'pruébala', 'pruébalos', 'práctica', 'práctico', 'príncipe', 'próxima', 'próximamente', 'próximas', 'próximo', 'próximos', 'psa', 'psi', 'psji', 'ptoductos', 'publica', 'publicaciones', 'publicación', 'publicado', 'publicamente', 'publicar', 'publicaremos', 'publicarlo', 'publicarán', 'publicasion', 'publicidad', 'publicidades', 'publicó', 'publiquen', 'publícarlo', 'pude', 'pudiera', 'pudieron', 'pudo', 'pueblo', 'pueda', 'puedan', 'puedas', 'puede', 'pueden', 'puedendecir', 'puedes', 'puedo', 'pues', 'puesto', 'puestos', 'puestosera', 'puleva', 'pulgarhaciaarriba', 'pulgarhaciaarribatonodepielclaro', 'pulpo', 'pulpocuando', 'puntas', 'punto', 'puntos', 'pura', 'pure', 'pureza', 'puro', 'puré', 'pusimos', 'puso', 'puta', 'putas', 'puto', 'puñeta', 'puñoenalto', 'pyefe', 'página', 'pásate', 'póngame', 'pósito', 'público', 'qcumplan', 'qerico', 'qro', 'que', 'queahora', 'queda', 'quedaba', 'quedamos', 'quedan', 'quedar', 'quedaria', 'quedaron', 'quedará', 'quedaría', 'quede', 'queden', 'quedo', 'quedé', 'quedó', 'queja', 'quejándote', 'queremos', 'querida', 'querido', 'queridos', 'quería', 'querían', 'quesito', 'queso', 'quezada', 'quien', 'quiera', 'quieran', 'quiere', 'quieren', 'quieres', 'quieri', 'quiero', 'quilmes', 'quimi', 'quimis', 'quimí', 'quingalombo', 'quininde', 'quinta', 'quinua', 'quiroz', 'quise', 'quisera', 'quisiera', 'quisieron', 'quiso', 'quitarme', 'quite', 'quito', 'quièn', 'quién', 'qué', 'qye', 'qyeda', 'qúe', 'race', 'raciones', 'radiactiva', 'radiante', 'radicales', 'radiografía', 'radler', 'rafachaleco', 'rafaela', 'ralado', 'ramirez', 'ramona', 'ramón', 'ranch', 'ranchaderezolafavotita', 'random', 'rangel', 'ranking', 'rapaditas', 'rapido', 'raquel', 'rasch', 'raspadita', 'raspar', 'raspe', 'ratas', 'rato', 'raul', 'rav', 'ravioli', 'raza', 'razonamos', 'razones', 'razón', 'raíces', 'real', 'realce', 'realicé', 'realidad', 'realiza', 'realizar', 'realizara', 'realizará', 'realizó', 'realmente', 'realsa', 'realza', 'reb', 'rebanada', 'rebanadas', 'rebeca', 'receptado', 'receta', 'recetas', 'recetascalientes', 'recetasfavorita', 'reciban', 'recibas', 'reciben', 'recibido', 'recibir', 'recibiremos', 'recibirla', 'reciclados', 'recidido', 'recien', 'recipiente', 'recién', 'reclama', 'recogí', 'recomendable', 'recomendación', 'recomienda', 'recomiendo', 'reconocida', 'recontra', 'recordadas', 'rectificamos', 'rectificar', 'recuerda', 'recuerdo', 'recuperando', 'recuperaron', 'recurso', 'recursos', 'redes', 'redonda', 'reduce', 'reducir', 'reduzca', 'referencia', 'refieres', 'refil', 'refiriéndose', 'reflejo', 'reflexión', 'refrescándome', 'refri', 'refrito', 'regalar', 'regale', 'regalo', 'regaños', 'regionales', 'registar', 'registrado', 'registrarlos', 'registrarme', 'registrate', 'registre', 'registro', 'registrándote', 'regrese', 'regístrate', 'regístrense', 'reina', 'relacion', 'relación', 'relena', 'relenar', 'relenas', 'releno', 'relenos', 'religión', 'relojería', 'remaladora', 'remarcan', 'remojadito', 'remojado', 'remojandolos', 'remojar', 'remojo', 'remover', 'remueve', 'renault', 'rendirnos', 'rendirse', 'renovada', 'renovamos', 'rentable', 'rentables', 'reparar', 'repartos', 'repautoclick', 'repetir', 'repetire', 'repisa', 'report', 'reposado', 'reposar', 'reposteria', 'repostería', 'reprodución', 'repuesta', 'repuestos', 'requerimiento', 'requeté', 'requiera', 'resaca', 'resacón', 'resaltan', 'rescatar', 'reseque', 'reserva', 'reseta', 'resetas', 'resfrito', 'resignacion', 'resistirse', 'respeto', 'respetos', 'respondan', 'responder', 'respondiendo', 'responsable', 'respuesta', 'respuestas', 'restad', 'restauración', 'restauran', 'restaurant', 'restaurante', 'restaurantes', 'restaurats', 'reste', 'resuelven', 'resulta', 'resultado', 'resultados', 'retira', 'retirar', 'reto', 'retweted', 'reuniendo', 'reunimos', 'reuniones', 'reunir', 'reunirnos', 'reventa', 'revisa', 'revisar', 'revista', 'revistas', 'revolviendo', 'revolviendolo', 'revuelto', 'revueltos', 'rexvile', 'rey', 'reyes', 'reyml', 'reía', 'reír', 'rica', 'ricardo', 'ricas', 'richard', 'rico', 'ricon', 'ricorefrito', 'ricos', 'ricoó', 'rik', 'rika', 'rikisimo', 'riko', 'rinde', 'rio', 'ripley', 'riquisima', 'riquisimas', 'riquisimo', 'riquisisisimo', 'riqusimo', 'riquísima', 'riquísimas', 'riquísimo', 'riquísimobueno', 'riquísimos', 'riquísisimo', 'risa', 'rita', 'rivadeneira', 'rivas', 'rivaspriscila', 'rivasroxana', 'rivassandy', 'river', 'rivera', 'riñones', 'roba', 'robado', 'robalino', 'robalo', 'robar', 'robara', 'robarlo', 'robarme', 'roberto', 'roble', 'robo', 'robó', 'rocha', 'rociar', 'rocio', 'rocklets', 'rocíogracias', 'rodrigo', 'roig', 'rojas', 'rojilo', 'rojo', 'roldos', 'rolito', 'rolitos', 'rome', 'romeo', 'romero', 'rompe', 'rompecabezas', 'ronal', 'ronquidos', 'ropa', 'ropita', 'ros', 'rosa', 'rosado', 'rosales', 'rosario', 'roselena', 'rosio', 'rosita', 'rostros', 'roundysalud', 'roxana', 'roxanamarthadentro', 'roxete', 'roxi', 'rubia', 'ruego', 'rugby', 'ruiz', 'ruja', 'runch', 'ruta', 'ruth', 'rutina', 'rábano', 'rápida', 'rápidas', 'rápido', 'récord', 'río', 'sabados', 'sabe', 'sabeis', 'sabemos', 'saben', 'saber', 'sabes', 'sabido', 'sabiduría', 'sabiendo', 'sabio', 'sabor', 'saborea', 'saborearlas', 'saboreo', 'sabores', 'saborice', 'sabras', 'sabrina', 'sabrosa', 'sabrosas', 'sabrositolucha', 'sabroso', 'sabrosísimo', 'sabrás', 'sabía', 'sabían', 'saca', 'sacamos', 'sacar', 'sacarlo', 'sacarlos', 'sacaron', 'sacas', 'saches', 'sachet', 'sachets', 'saciedad', 'sackium', 'sacrificio', 'saga', 'sahyra', 'sakvador', 'sal', 'sala', 'salada', 'saladas', 'saladita', 'salario', 'salas', 'salazar', 'salcan', 'salchichón', 'salcuando', 'saldariaga', 'saldremos', 'sale', 'salen', 'sales', 'salga', 'salgas', 'salgo', 'salida', 'salido', 'salieran', 'salimos', 'salio', 'salir', 'salió', 'salsa', 'salsapara', 'salsas', 'salt', 'salta', 'salud', 'saludable', 'saludablemente', 'saludables', 'saludado', 'saludjdomingomc', 'saludos', 'salvación', 'salvado', 'salvar', 'salvo', 'salí', 'samana', 'san', 'sana', 'sanas', 'sanchez', 'sancocho', 'sandra', 'sandrita', 'sanduches', 'sanduhes', 'sandwich', 'sandwis', 'sandy', 'sango', 'sangre', 'sanguche', 'sano', 'santa', 'santacruz', 'santiago', 'santo', 'santoro', 'santos', 'saquen', 'sara', 'sarai', 'sargadelos', 'sarita', 'saritama', 'sarta', 'sarten', 'sartén', 'sasi', 'satisfacer', 'satisfechos', 'saturdays', 'savedra', 'savina', 'sazon', 'sazono', 'sazony', 'sazón', 'schneider', 'se', 'sebas', 'secion', 'seción', 'seco', 'secofestivaldelseco', 'secos', 'secreto', 'secretos', 'sector', 'sectores', 'sectorpor', 'sed', 'sedan', 'sedanes', 'sedán', 'sefrie', 'segir', 'seguimos', 'seguir', 'seguire', 'seguirnos', 'seguirte', 'seguiré', 'segunda', 'segundas', 'segundo', 'segura', 'seguridad', 'seguro', 'seguros', 'según', 'seis', 'selada', 'selan', 'selar', 'selecinada', 'selecionados', 'seleción', 'selo', 'semana', 'semanas', 'semila', 'seminario', 'sencilamente', 'sencilo', 'senora', 'sensaciones', 'sensation', 'sentada', 'sentarse', 'sentimental', 'sentimos', 'sentirse', 'sepa', 'separa', 'separarse', 'separatista', 'sequito', 'ser', 'sera', 'seran', 'seranito', 'sercomo', 'sere', 'serena', 'seres', 'sergio', 'seria', 'serie', 'serum', 'servicio', 'servicios', 'servir', 'servirles', 'servitje', 'sesión', 'severo', 'sevila', 'sevilana', 'sevilanas', 'señal', 'señaldeaprobaciónconlamano', 'señaldeaprobaciónconlamanotonodepielclaro', 'señaldeaprobaciónconlamanotonodepieloscuromedio', 'señor', 'señora', 'señoras', 'señores', 'sgte', 'shirley', 'shoping', 'show', 'sicario', 'sido', 'siemore', 'siemp', 'siempre', 'siendo', 'sientes', 'siento', 'siera', 'siga', 'sigan', 'sige', 'siglo', 'significa', 'significado', 'significando', 'sigo', 'sigue', 'siguiendo', 'siguiente', 'siguientes', 'silva', 'silvia', 'similar', 'simple', 'simplemente', 'sin', 'sinai', 'sinalin', 'sincebolista', 'sincera', 'sino', 'sinteticos', 'sirva', 'sirve', 'sistema', 'sitio', 'situación', 'sixto', 'slente', 'slim', 'sobraba', 'sobrantes', 'sobreconflecha', 'sobres', 'sobretodo', 'sobrevivencia', 'sobrinos', 'sociales', 'sociedad', 'sodio', 'sol', 'sola', 'solamente', 'solange', 'solar', 'soledad', 'solicitados', 'solidaria', 'solis', 'solito', 'solo', 'solorzano', 'solprendida', 'solpresa', 'soltería', 'solucionar', 'solucionarlo', 'solucionemen', 'solución', 'sombra', 'somos', 'sonar', 'sonará', 'sonia', 'sonriendo', 'sonrisa', 'sony', 'sonyita', 'sopa', 'sopastortas', 'sopita', 'soportar', 'soraya', 'sorento', 'sorprender', 'sorprenderemos', 'sorpresa', 'sorpresas', 'sorpréndete', 'sorteada', 'sorteado', 'sortean', 'sorteanmientras', 'sortearemos', 'sorteo', 'sorteos', 'sorteosya', 'sory', 'sos', 'sostenible', 'sotomayor', 'soul', 'soya', 'soñaba', 'soñado', 'soñadora', 'soñaste', 'spa', 'space', 'sped', 'sponsor', 'sportage', 'sposo', 'sra', 'sres', 'srluis', 'srs', 'sta', 'stalin', 'stalkers', 'stand', 'standares', 'stefania', 'stefy', 'stela', 'steven', 'stinger', 'stock', 'stoy', 'stranger', 'stëfy', 'suarez', 'suaré', 'suave', 'suaves', 'suban', 'sube', 'subi', 'subimos', 'subir', 'subirlo', 'subo', 'subproductos', 'sucedáneo', 'suchard', 'sucre', 'sucursal', 'suegra', 'suegro', 'sueldo', 'sueldos', 'suena', 'suert', 'suerte', 'sueño', 'sueños', 'sufren', 'sugerencia', 'sugerimos', 'suiza', 'sule', 'sumamente', 'sumerguiendo', 'suministro', 'sumo', 'sun', 'super', 'superar', 'superarse', 'superbowl', 'superfivie', 'superior', 'supermaxi', 'supermercado', 'supermercados', 'supero', 'supo', 'supradyn', 'supuesto', 'supueto', 'sur', 'surge', 'surte', 'surtidito', 'sus', 'susa', 'susamente', 'susan', 'susana', 'suspende', 'suspender', 'susy', 'suzuki', 'suárez', 'sylvia', 'sábado', 'sábana', 'sábanas', 'sáenz', 'sánduche', 'síguenos', 'símbolodeenfado', 'símbolodemareo', 'síntesis', 'sódico', 'sólo', 'súper', 'tabajar', 'tabernas', 'tabletadechocolate', 'taco', 'tacos', 'tajonar', 'tal', 'talarin', 'talarines', 'talarín', 'talento', 'talentos', 'taler', 'talibanes', 'talvez', 'tamb', 'tambien', 'tambiendeberia', 'tambièn', 'tambn', 'tambor', 'tampoco', 'tan', 'tanbien', 'tania', 'tantas', 'tantiene', 'tantos', 'tanvien', 'tanya', 'tapa', 'taparla', 'tapas', 'tapaspalabra', 'tapias', 'tapitas', 'tarada', 'taradelases', 'taralo', 'tarde', 'tardes', 'target', 'tarjetas', 'taro', 'tarrodemiel', 'tas', 'tathy', 'taty', 'tatyanita', 'tavares', 'taxista', 'taza', 'tazas', 'tazóndefideos', 'tbj', 'tbjr', 'te', 'teatro', 'tebebrosa', 'tec', 'tecate', 'techo', 'tecnicas', 'tecnología', 'tejida', 'tejidos', 'teléfono', 'teléfonomóvil', 'tema', 'temerosa', 'temporada', 'temporadas', 'temprano', 'tendre', 'tendria', 'tenebrosas', 'tenebroso', 'tenebrosos', 'tenedor', 'tenedorycuchillo', 'teneniamos', 'tener', 'tenerla', 'tenerlo', 'tenerlos', 'tenerte', 'teng', 'tenia', 'tentación', 'tento', 'teques', 'tequi', 'tequila', 'tercel', 'tercera', 'tercero', 'tercio', 'tercios', 'tere', 'teremoto', 'teresa', 'terezita', 'terible', 'teribles', 'termina', 'terminan', 'terminand', 'terminar', 'termine', 'termino', 'terminos', 'terminé', 'terminó', 'terner', 'ternura', 'tesis', 'tesla', 'test', 'testa', 'testigo', 'textura', 'the', 'thup', 'tia', 'tibio', 'tidavia', 'tido', 'tidos', 'tiempi', 'tiempo', 'tiempoinauguración', 'tienda', 'tiendas', 'tiende', 'tienden', 'tienen', 'tieneny', 'tiera', 'tiernoven', 'tigrero', 'tigrilo', 'tijera', 'tilapia', 'tilo', 'time', 'timo', 'tio', 'tip', 'tipa', 'tipeja', 'tipica', 'tipico', 'tipo', 'tips', 'tira', 'tirador', 'tirarla', 'tiro', 'tisne', 'titulo', 'toa', 'tocino', 'toco', 'tocó', 'toda', 'todabia', 'todas', 'todavia', 'todavía', 'todods', 'todos', 'todotereno', 'tods', 'toke', 'tomador', 'toman', 'tomando', 'tomar', 'tomaremos', 'tomarme', 'tomarse', 'tomarte', 'tomaré', 'tomate', 'tome', 'tomemos', 'tomen', 'tomo', 'tonga', 'tonterías', 'tontita', 'tontoron', 'tony', 'top', 'toples', 'toque', 'toquecito', 'toquesito', 'toral', 'tore', 'tores', 'toro', 'torontegui', 'torta', 'tortas', 'tortila', 'tortilas', 'tortita', 'tosino', 'tosta', 'tostada', 'tostadas', 'tostaditoy', 'tostado', 'tostar', 'tostitos', 'total', 'totalmente', 'tour', 'tourer', 'tovar', 'toy', 'toyota', 'toyozuki', 'tpostadas', 'trabajaba', 'trabajadores', 'trabajamos', 'trabajan', 'trabajando', 'trabajar', 'trabajo', 'tradicion', 'tradicional', 'tradición', 'trae', 'traeme', 'traer', 'traerá', 'tragar', 'trago', 'traiga', 'trail', 'trajo', 'tranca', 'tranqui', 'tranquila', 'tranquilos', 'trans', 'transgénicoses', 'transmision', 'transmisión', 'transmitirá', 'tras', 'trasera', 'trasero', 'trata', 'tratamientos', 'tratando', 'tratar', 'tratare', 'trato', 'traume', 'travez', 'través', 'trazar', 'traían', 'traído', 'tre', 'tremenda', 'tremendo', 'tres', 'tri', 'tributo', 'trigo', 'trihte', 'trinitaria', 'triple', 'tripledoble', 'triste', 'tristes', 'trituramos', 'triunfar', 'triunfo', 'trocear', 'trocitos', 'trofeo', 'tronchasde', 'tronos', 'troya', 'trozodetarta', 'trozos', 'truco', 'trufas', 'trump', 'tréboldecuatrohojas', 'tu', 'tuan', 'tubo', 'tucson', 'tui', 'tuitazo', 'tulcan', 'tumba', 'tumbo', 'tuti', 'tutú', 'tuvimos', 'twiter', 'twits', 'técnica', 'términos', 'tía', 'tío', 'típica', 'típico', 'tóxicos', 'ubago', 'ube', 'ubicar', 'uchuari', 'udi', 'uds', 'uefa', 'uhm', 'ultima', 'ultimo', 'umber', 'un', 'unas', 'unen', 'unfolow', 'unha', 'unico', 'unidad', 'unidas', 'unido', 'unidos', 'uniforme', 'unio', 'union', 'unior', 'unito', 'unión', 'unocero', 'unomásuno', 'untable', 'untables', 'untada', 'untadas', 'untamos', 'untar', 'untarlo', 'unto', 'urbana', 'ureta', 'uruguay', 'usa', 'usado', 'usadoeste', 'usados', 'usamos', 'usando', 'usar', 'usará', 'use', 'uses', 'uso', 'ust', 'usted', 'ustedes', 'utilices', 'utilicé', 'utilidadbuenos', 'utilidades', 'utiliza', 'utilizamos', 'utilizando', 'utilizar', 'utilizo', 'utilizó', 'utuliza', 'uvas', 'uwu', 'vaca', 'vacaciones', 'vacante', 'vacios', 'vainas', 'vainila', 'vainitas', 'vais', 'valadolid', 'valdivia', 'valdivieso', 'valdria', 'vale', 'valejo', 'valen', 'valentin', 'valentina', 'valentín', 'valeria', 'valido', 'valiente', 'valiosa', 'valoran', 'valores', 'vamo', 'vamod', 'vamono', 'vamos', 'van', 'vanesa', 'vargas', 'variableslo', 'variada', 'varias', 'variedad', 'varios', 'varones', 'varón', 'vas', 'vaso', 'vasos', 'vasquez', 'vatman', 'vaya', 'vaz', 've', 'vea', 'vean', 'veas', 'veces', 'vecinos', 'veda', 'vega', 'vegetal', 'vegetales', 'vehículo', 'vehículos', 'vejez', 'velare', 'velarte', 'veliz', 'velocidad', 'vemo', 'ven', 'vencida', 'vendan', 'vende', 'vendeb', 'vendedor', 'vendemos', 'venden', 'vender', 'venderlo', 'vendes', 'vendicion', 'vendido', 'vendió', 'vendo', 'vendopermuto', 'vendéis', 'venezolana', 'venga', 'vengo', 'venir', 'venta', 'ventana', 'ventas', 'venís', 'veo', 'ver', 'vera', 'verano', 'verdad', 'verdadera', 'verdadero', 'verdaders', 'verde', 'verdecito', 'verdesoto', 'verduras', 'vergüenza', 'verifica', 'verles', 'verlo', 'vero', 'veronica', 'versiones', 'verso', 'verónica', 'ves', 'vestida', 'vete', 'vevo', 'vez', 'via', 'viajado', 'viajar', 'viaje', 'viajemos', 'vic', 'vicente', 'viche', 'vicio', 'viciodelilu', 'victor', 'victoria', 'vida', 'vidas', 'video', 'videos', 'vidrio', 'vieja', 'viejita', 'viejo', 'viejos', 'viendo', 'viene', 'vienen', 'vientre', 'viernes', 'vieron', 'vigente', 'vigo', 'vilalta', 'vilamar', 'vilamil', 'vilanueva', 'vilareal', 'vilavicencio', 'vilegas', 'vilma', 'vimos', 'vinagre', 'vinagreta', 'vinces', 'vine', 'vino', 'vinos', 'vinueza', 'violencia', 'viraron', 'virgen', 'virginia', 'virtualfelicidades', 'vision', 'visita', 'visitas', 'vista', 'viste', 'vistes', 'visto', 'vitalia', 'viva', 'vive', 'viven', 'viveres', 'viviana', 'vivianita', 'vivienda', 'viviendo', 'vivimos', 'vivir', 'vivo', 'voces', 'vodka', 'voi', 'volquen', 'voluntad', 'volviendo', 'volvían', 'vomitiva', 'vontade', 'vos', 'voy', 'vudú', 'vueltas', 'vuelva', 'vuelve', 'vuelven', 'vuelvo', 'vusta', 'válida', 'vásquez', 'vía', 'víaláctea', 'vídeo', 'vídeos', 'wacademialafavoritacomec', 'waesberghe', 'walmart', 'wao', 'wasteiner', 'wau', 'wawsberghe', 'way', 'wayne', 'web', 'wendy', 'wesly', 'wester', 'western', 'westerunion', 'what', 'wheno', 'who', 'wicho', 'wil', 'wilem', 'wiliams', 'wisky', 'wlafabrilcomectrabajophp', 'wlbicho', 'wody', 'wou', 'wow', 'wrc', 'wrcar', 'wtucasalafabrilcomec', 'wuao', 'wuester', 'xavier', 'xdkxksksksdod', 'xdxd', 'xfa', 'xfavor', 'xiomara', 'xli', 'xmuchos', 'xqyo', 'xsara', 'ya', 'yadira', 'yael', 'yameme', 'yapa', 'yapigacho', 'yapingacho', 'yaris', 'yatekomo', 'yay', 'yayi', 'yecibel', 'yejorar', 'yelita', 'yelixa', 'yendo', 'yeny', 'yerai', 'ygana', 'ynat', 'yo', 'yogures', 'yohandry', 'yolanda', 'yoly', 'yolys', 'york', 'yoza', 'yuca', 'yucazo', 'yumi', 'yungaicela', 'yupi', 'zadana', 'zahoria', 'zaida', 'zambrano', 'zambranoninfa', 'zamora', 'zanahoria', 'zico', 'zoila', 'zona', 'zonas', 'zulay', 'zuleika', 'zuliana', 'zumos', 'zuñiga', 'ácidos', 'águila', 'ámbitos', 'ángel', 'árbitro', 'árbol', 'árboldehojaperenne', 'árboldenavidad', 'áreas', 'éso', 'ésta', 'éste', 'ética', 'éxito', 'éxitos', 'ídolo', 'ñetos', 'órgano', 'última', 'último', 'única', 'únicas', 'único', 'únicos', 'ğarcîa', 'ŕecetaparaelexitofamiliar', 'ʺnegocios']\n"
     ]
    }
   ],
   "source": [
    "# Se imprimen los vectores de features (palabras de comentarios)\n",
    "print(vect1.get_feature_names())"
   ]
  },
  {
   "cell_type": "code",
   "execution_count": 21,
   "metadata": {},
   "outputs": [],
   "source": [
    "# Se mide la importancia de cada termino en base a su frecuencia\n",
    "from sklearn.feature_extraction.text import TfidfTransformer\n",
    "tfidf = TfidfTransformer()\n",
    "X_train = tfidf.fit_transform(X_train)\n",
    "X_test = tfidf.transform(X_test)\n",
    "X_train = X_train.toarray()\n",
    "X_test = X_test.toarray()"
   ]
  },
  {
   "cell_type": "code",
   "execution_count": 22,
   "metadata": {
    "scrolled": true
   },
   "outputs": [
    {
     "name": "stdout",
     "output_type": "stream",
     "text": [
      "(3560, 6837)\n",
      "(1526, 6837)\n",
      "(3560,)\n",
      "(1526,)\n"
     ]
    }
   ],
   "source": [
    "# Se vuelve a imprimir la cantidad de palabras de cada segmento \n",
    "print(X_train.shape)\n",
    "print(X_test.shape)\n",
    "print(y_train.shape)\n",
    "print(y_test.shape)"
   ]
  },
  {
   "cell_type": "code",
   "execution_count": 23,
   "metadata": {},
   "outputs": [
    {
     "data": {
      "text/plain": [
       "TruncatedSVD(n_components=5, n_iter=7, random_state=42)"
      ]
     },
     "execution_count": 23,
     "metadata": {},
     "output_type": "execute_result"
    }
   ],
   "source": [
    "# Se aplica la reduccion de dimensionalidad mediante la tecnica SVD\n",
    "from sklearn.decomposition import TruncatedSVD\n",
    "from scipy.sparse import random as sparse_random\n",
    "svd = TruncatedSVD(n_components=5, n_iter=7, random_state=42)\n",
    "svd.fit(X_train)"
   ]
  },
  {
   "cell_type": "code",
   "execution_count": 24,
   "metadata": {},
   "outputs": [],
   "source": [
    "# Se establece el numero de componentes e iteraciones para el SVD\n",
    "svd = TruncatedSVD(n_components=4000, n_iter=7, random_state=42)\n",
    "svd.fit(X_train)\n",
    "percent_variance_retained = svd.explained_variance_ / np.sum(svd.explained_variance_)\n",
    "cumulative_variance_retained = np.cumsum(percent_variance_retained) # se calcula la varianza acumulada retenida"
   ]
  },
  {
   "cell_type": "code",
   "execution_count": 25,
   "metadata": {
    "scrolled": true
   },
   "outputs": [
    {
     "data": {
      "image/png": "[encoded data removed]",
      "text/plain": [
       "<Figure size 720x432 with 1 Axes>"
      ]
     },
     "metadata": {
      "needs_background": "light"
     },
     "output_type": "display_data"
    }
   ],
   "source": [
    "# Se grafica la curva del numero de componentes vs. la varianza acumulada retenida\n",
    "import matplotlib.pyplot as plt\n",
    "plt.figure(1, figsize=(10, 6))\n",
    "plt.clf()\n",
    "plt.plot(cumulative_variance_retained, linewidth=2)\n",
    "plt.axis('tight')\n",
    "plt.grid()\n",
    "plt.xlabel('Number of Components')\n",
    "plt.ylabel('Cumulative variance Retained')\n",
    "plt.show()"
   ]
  },
  {
   "cell_type": "code",
   "execution_count": 26,
   "metadata": {},
   "outputs": [],
   "source": [
    "# Se determina el numero de componentes en base a la curva \n",
    "NComponents = 3500\n",
    "svd = TruncatedSVD(n_components=NComponents, n_iter=7, random_state=42)\n",
    "X_svd_train = svd.fit_transform(X_train)\n",
    "X_svd_test = svd.transform(X_test)"
   ]
  },
  {
   "cell_type": "code",
   "execution_count": 27,
   "metadata": {
    "scrolled": true
   },
   "outputs": [
    {
     "name": "stdout",
     "output_type": "stream",
     "text": [
      "(3560, 3500)\n",
      "(1526, 3500)\n",
      "(3560,)\n",
      "(1526,)\n"
     ]
    }
   ],
   "source": [
    "# Se verifica la cantidad de palabras de cada segmento \n",
    "print(X_svd_train.shape)\n",
    "print(X_svd_test.shape)\n",
    "print(y_train.shape)\n",
    "print(y_test.shape)"
   ]
  },
  {
   "cell_type": "code",
   "execution_count": 28,
   "metadata": {},
   "outputs": [
    {
     "name": "stderr",
     "output_type": "stream",
     "text": [
      "C:\\Users\\JORDY\\AnacondaV3\\lib\\site-packages\\sklearn\\linear_model\\_stochastic_gradient.py:570: ConvergenceWarning: Maximum number of iteration reached before convergence. Consider increasing max_iter to improve the fit.\n",
      "  warnings.warn(\"Maximum number of iteration reached before \"\n"
     ]
    },
    {
     "data": {
      "text/plain": [
       "SGDClassifier(max_iter=7)"
      ]
     },
     "execution_count": 28,
     "metadata": {},
     "output_type": "execute_result"
    }
   ],
   "source": [
    "from sklearn.svm import SVC\n",
    "from sklearn.model_selection import cross_validate\n",
    "from sklearn.model_selection import cross_val_score\n",
    "from sklearn.linear_model import SGDClassifier\n",
    "svc=SVC(kernel='poly',C=0.1, degree=3, coef0=0.0, class_weight='balanced') # Se aplica el modelo SVM con sus parametros\n",
    "scores = cross_val_score(svc, X_svd_train, y_train, cv=10, scoring='accuracy') # Se valida el modelo con 10 folds\n",
    "svc = SGDClassifier(max_iter=7) # Se establece el numero de iteraciones sobre el set de entrenamiento \n",
    "svc.fit(X_svd_train, y_train) # Se ajusta el modelo "
   ]
  },
  {
   "cell_type": "code",
   "execution_count": 29,
   "metadata": {},
   "outputs": [
    {
     "data": {
      "text/plain": [
       "0.752948885976409"
      ]
     },
     "execution_count": 29,
     "metadata": {},
     "output_type": "execute_result"
    }
   ],
   "source": [
    "# Accuracy en el set de prueba\n",
    "svc.score(X_svd_test, y_test)"
   ]
  },
  {
   "cell_type": "code",
   "execution_count": 30,
   "metadata": {},
   "outputs": [
    {
     "data": {
      "text/plain": [
       "array(['Neutral', 'Neutral', 'Neutral', ..., 'Positive', 'Neutral',\n",
       "       'Neutral'], dtype='<U8')"
      ]
     },
     "execution_count": 30,
     "metadata": {},
     "output_type": "execute_result"
    }
   ],
   "source": [
    "# Predecir en el set de prueba \n",
    "predicted_sentiments = svc.predict(X_svd_test)\n",
    "predicted_sentiments"
   ]
  },
  {
   "cell_type": "code",
   "execution_count": 31,
   "metadata": {
    "scrolled": false
   },
   "outputs": [
    {
     "name": "stdout",
     "output_type": "stream",
     "text": [
      "              precision    recall  f1-score   support\n",
      "\n",
      "    Positive       0.76      0.62      0.69       541\n",
      "    Negative       0.46      0.21      0.29        84\n",
      "     Neutral       0.76      0.88      0.82       901\n",
      "\n",
      "    accuracy                           0.75      1526\n",
      "   macro avg       0.66      0.57      0.60      1526\n",
      "weighted avg       0.74      0.75      0.74      1526\n",
      "\n"
     ]
    }
   ],
   "source": [
    "# Desplegar metricas para el modelo\n",
    "report = metrics.classification_report(y_true=y_test, \n",
    "                                           y_pred=predicted_sentiments, \n",
    "                                           labels=['Positive', 'Negative', 'Neutral'])\n",
    "print(report)"
   ]
  },
  {
   "cell_type": "code",
   "execution_count": 32,
   "metadata": {},
   "outputs": [
    {
     "name": "stdout",
     "output_type": "stream",
     "text": [
      "Confusion matrix, without normalization\n",
      "[[ 18  59   7]\n",
      " [ 10 793  98]\n",
      " [ 11 192 338]]\n",
      "Normalized confusion matrix\n",
      "[[0.21428571 0.70238095 0.08333333]\n",
      " [0.01109878 0.88013319 0.10876804]\n",
      " [0.02033272 0.35489834 0.62476895]]\n"
     ]
    },
    {
     "data": {
      "image/png": "[encoded data removed]",
      "text/plain": [
       "<Figure size 432x288 with 2 Axes>"
      ]
     },
     "metadata": {
      "needs_background": "light"
     },
     "output_type": "display_data"
    },
    {
     "data": {
      "image/png": "[encoded data removed]",
      "text/plain": [
       "<Figure size 432x288 with 2 Axes>"
      ]
     },
     "metadata": {
      "needs_background": "light"
     },
     "output_type": "display_data"
    }
   ],
   "source": [
    "# Graficar matrices de confusión sin y con normalizacion \n",
    "from sklearn.metrics import plot_confusion_matrix\n",
    "titles_options = [(\"Confusion matrix, without normalization\", None),\n",
    "                  (\"Normalized confusion matrix\", 'true')]\n",
    "for title, normalize in titles_options:\n",
    "    disp = plot_confusion_matrix(svc, X_svd_test, y_test,\n",
    "                                 display_labels=['Negative', 'Neutral', 'Positive'],\n",
    "                                 cmap=plt.cm.Blues,\n",
    "                                 normalize=normalize)\n",
    "    disp.ax_.set_title(title)\n",
    "\n",
    "    print(title)\n",
    "    print(disp.confusion_matrix)\n",
    "\n",
    "plt.show()"
   ]
  }
 ],
 "metadata": {
  "kernelspec": {
   "display_name": "Python 3",
   "language": "python",
   "name": "python3"
  },
  "language_info": {
   "codemirror_mode": {
    "name": "ipython",
    "version": 3
   },
   "file_extension": ".py",
   "mimetype": "text/x-python",
   "name": "python",
   "nbconvert_exporter": "python",
   "pygments_lexer": "ipython3",
   "version": "3.8.3"
  }
 },
 "nbformat": 4,
 "nbformat_minor": 4
}
